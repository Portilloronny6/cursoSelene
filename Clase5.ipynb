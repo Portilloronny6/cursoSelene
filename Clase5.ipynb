{
  "nbformat": 4,
  "nbformat_minor": 0,
  "metadata": {
    "colab": {
      "name": "Clase5.ipynb",
      "provenance": [],
      "collapsed_sections": [],
      "authorship_tag": "ABX9TyPdIi0QazlYoUTQM6+xl+NC",
      "include_colab_link": true
    },
    "kernelspec": {
      "name": "python3",
      "display_name": "Python 3"
    },
    "accelerator": "GPU"
  },
  "cells": [
    {
      "cell_type": "markdown",
      "metadata": {
        "id": "view-in-github",
        "colab_type": "text"
      },
      "source": [
        "<a href=\"https://colab.research.google.com/github/Portilloronny6/cursoSelene/blob/master/Clase5.ipynb\" target=\"_parent\"><img src=\"https://colab.research.google.com/assets/colab-badge.svg\" alt=\"Open In Colab\"/></a>"
      ]
    },
    {
      "cell_type": "markdown",
      "metadata": {
        "id": "1yrsT5-2evIo",
        "colab_type": "text"
      },
      "source": [
        "# Clase 5"
      ]
    },
    {
      "cell_type": "markdown",
      "metadata": {
        "id": "j_BVE9SxeyPv",
        "colab_type": "text"
      },
      "source": [
        "\n",
        "\n",
        "---\n",
        "\n",
        "\n",
        "Imagina que acabas de montar un restaurante vegetariano y necesitas meseros y camareras para que atiendan a tu clientela. Cuando se presentan los candidatos a los cargos antes mencionados, necesitas recabar información acerca de ellos, como por ejemplo:\n",
        "\n",
        "\n",
        "\n",
        "---\n",
        "\n",
        "\n",
        "\n",
        "\n",
        "|                    |      Mesero 1     |      Mesero 2     |     Mesero 3     |\n",
        "|--------------------|:-----------------:|:-----------------:|:----------------:|\n",
        "|             Nombre |       Ronny       |       Evelio      |       Jesus      |\n",
        "|               Edad |         26        |         24        |        26        |\n",
        "|            Idiomas | [Español, Ingles] | [Frances, Aleman] | [Coreano, Chino] |\n",
        "| Experiencia (años) |         2         |         3         |         4        |\n",
        "| Permiso de trabajo |        True       |       False       |       True       |\n",
        "\n",
        "\n",
        "---\n",
        "\n",
        "\n",
        "Así mismo para las camareras:\n",
        "\n",
        "\n",
        "---\n",
        "\n",
        "\n",
        "|                    |     Camarera 1    |     Camarera 2    |    Camarera 3    |\n",
        "|--------------------|:-----------------:|:-----------------:|:----------------:|\n",
        "|             Nombre |       Nancy       |       Maria       |      Carmen      |\n",
        "|               Edad |         21        |         24        |        31        |\n",
        "|            Idiomas | [Español, Ingles] | [Frances, Aleman] | [Coreano, Chino] |\n",
        "| Experiencia (años) |         1         |         0         |         5        |\n",
        "| Permiso de trabajo |        True       |       False       |       True       |\n",
        "\n",
        "\n",
        "---\n",
        "\n",
        "\n",
        "Toda esa información debes almacenarlas en una base de datos usando Python, para ello una solución seria usar los métodos tradicionales de asignación de variables."
      ]
    },
    {
      "cell_type": "code",
      "metadata": {
        "id": "Su9chp4we6u7",
        "colab_type": "code",
        "colab": {}
      },
      "source": [
        "# Mesero 1\n",
        "mesero1Nombre = 'Ronny'\n",
        "mesero1Edad = 26\n",
        "mesero1Idiomas = ['Español', 'Ingles']\n",
        "mesero1Exp = 2\n",
        "mesero1Perm = True\n",
        "\n",
        "# Mesero 2\n",
        "mesero2Nombre = 'Evelio'\n",
        "mesero2Edad = 24\n",
        "mesero2Idiomas = ['Frances', 'Aleman']\n",
        "mesero2Exp = 2\n",
        "mesero2Perm = False\n",
        "\n",
        "# Mesero 3\n",
        "mesero3Nombre = 'Jesus'\n",
        "mesero3Edad = 26\n",
        "mesero3Idiomas = ['Coreano', 'Chino']\n",
        "mesero3Exp = 2\n",
        "mesero3Perm = True"
      ],
      "execution_count": 0,
      "outputs": []
    },
    {
      "cell_type": "markdown",
      "metadata": {
        "id": "IJFLyatFe_7Y",
        "colab_type": "text"
      },
      "source": [
        "O también usando alguna función que facilite el proceso:"
      ]
    },
    {
      "cell_type": "code",
      "metadata": {
        "id": "SPXP9sPwfBt_",
        "colab_type": "code",
        "colab": {}
      },
      "source": [
        "def camarera(nombre, edad, idiomas, exp, perm):\n",
        "    return nombre, edad, idiomas, exp, perm\n",
        "\n",
        "camarera1 = camarera('Nancy', 21, ['Español', 'Ingles'], 1, True)\n",
        "camarera2 = camarera('Maria', 24, ['Frances', 'Aleman'], 0, False)\n",
        "camarera3 = camarera('Carmen', 31, ['Coreano', 'Chino'], 5, True)"
      ],
      "execution_count": 0,
      "outputs": []
    },
    {
      "cell_type": "code",
      "metadata": {
        "id": "NZDlE0zUfD0e",
        "colab_type": "code",
        "outputId": "67f98765-2f24-41f7-c0c3-52cde965851e",
        "colab": {
          "base_uri": "https://localhost:8080/",
          "height": 34
        }
      },
      "source": [
        "camarera1"
      ],
      "execution_count": 0,
      "outputs": [
        {
          "output_type": "execute_result",
          "data": {
            "text/plain": [
              "('Nancy', 21, ['Español', 'Ingles'], 1, True)"
            ]
          },
          "metadata": {
            "tags": []
          },
          "execution_count": 3
        }
      ]
    },
    {
      "cell_type": "code",
      "metadata": {
        "id": "Y1pDsGEkfPF-",
        "colab_type": "code",
        "outputId": "10f0db2f-592c-4cae-d706-e83e2c2d827a",
        "colab": {
          "base_uri": "https://localhost:8080/",
          "height": 34
        }
      },
      "source": [
        "camarera2"
      ],
      "execution_count": 0,
      "outputs": [
        {
          "output_type": "execute_result",
          "data": {
            "text/plain": [
              "('Maria', 24, ['Frances', 'Aleman'], 0, False)"
            ]
          },
          "metadata": {
            "tags": []
          },
          "execution_count": 4
        }
      ]
    },
    {
      "cell_type": "code",
      "metadata": {
        "id": "g3mI6h26fQXW",
        "colab_type": "code",
        "outputId": "38d8f367-3f23-47e0-965c-5627d808e7e7",
        "colab": {
          "base_uri": "https://localhost:8080/",
          "height": 34
        }
      },
      "source": [
        "camarera3"
      ],
      "execution_count": 0,
      "outputs": [
        {
          "output_type": "execute_result",
          "data": {
            "text/plain": [
              "('Carmen', 31, ['Coreano', 'Chino'], 5, True)"
            ]
          },
          "metadata": {
            "tags": []
          },
          "execution_count": 5
        }
      ]
    },
    {
      "cell_type": "code",
      "metadata": {
        "id": "mj6VDNbafSV2",
        "colab_type": "code",
        "outputId": "c673b4ae-2ba5-4125-f2d4-a8659e74d5b4",
        "colab": {
          "base_uri": "https://localhost:8080/",
          "height": 34
        }
      },
      "source": [
        "type(camarera1)"
      ],
      "execution_count": 0,
      "outputs": [
        {
          "output_type": "execute_result",
          "data": {
            "text/plain": [
              "tuple"
            ]
          },
          "metadata": {
            "tags": []
          },
          "execution_count": 6
        }
      ]
    },
    {
      "cell_type": "markdown",
      "metadata": {
        "id": "7_prHceLfdRf",
        "colab_type": "text"
      },
      "source": [
        "# Programación Orientada a Objetos (POO) o (OOP, por sus siglas en inglés)"
      ]
    },
    {
      "cell_type": "markdown",
      "metadata": {
        "id": "dMktkxlifgK8",
        "colab_type": "text"
      },
      "source": [
        "\n",
        "\n",
        "---\n",
        "\n",
        "\n",
        "Sin embargo, a medida que tu equipo de trabajo vaya aumentando,\n",
        "también lo hará la base de datos y en consecuencia, las lineas de código. Ahora, ninguna de las maneras anteriores es práctica debido a que ni asignando variables ni creando una función es útil para almacenar la información.\n",
        "\n",
        "\n",
        "El método de la función quizá pueda parecer factible pero a la hora de expotar la variable *camarera1* o cualquier otra hacia la base de datos, es probable que ocurran errores de compatibilidad porque lo que se estaría exportando es una tupla de información muy grande. Al final nos rendiriamos y terminariamos usando excel :'v.\n",
        "\n",
        "Pero no todo esta perdido, gracias a los lenguajes que son orientados a objetos, como Python, estos nos brindan herramientas que a priori pueden parecer confusas pero que al entenderlas nos ayudaran mucho. Estas herramientas son **Las Clases.**\n",
        "\n",
        "\n",
        "\n",
        "---\n",
        "\n",
        "*La Programación Orientada a Objetos* hace referencia a que ***TODO es un objeto***, todo lo que existe es un objeto, pero para ser algún objeto, tienes que tener características y atributos propios de un objeto en particular. por ejemplo:\n",
        "\n",
        "¿Qué hace que una casa sea una casa? \n",
        "\n",
        "¿Qué hace que un edificio sea un edificio? o \n",
        "\n",
        "¿Cuál es la diferencia entre un carro y una camioneta? \n",
        "\n",
        "\n",
        "Ese es el tipo de preguntas que se generan al ver los elementos como un objeto y se responden al definirlos a partir de sus atributos.\n",
        "\n",
        "\n",
        "La POO le permite al programador crear sus propios objetos, atributos y métodos. En general, **la POO permite crear código que sea reproducible y organizado.**\n",
        "\n",
        "La base de la POO son las **clases** que nos ayudarán a crear los objetos. En palabras simples, las clases son una plantilla que nos van a permitir definir objetos a partir de sus atributos y métodos.\n",
        "\n",
        "##### POO\n",
        "\n",
        "\n",
        "- Clases\n",
        "- Objetos\n",
        "- Propiedades (atributos)\n",
        "- Métodos\n"
      ]
    },
    {
      "cell_type": "markdown",
      "metadata": {
        "id": "cdi9bFJJgZu4",
        "colab_type": "text"
      },
      "source": [
        "# Sintaxis:\n",
        "\n",
        "```\n",
        "            class NombredelaClase():\n",
        "                \n",
        "                #Constructor\n",
        "                def __init__(self, param1, param2):\n",
        "                    self.param1 = param1\n",
        "                    self.param2 = param2\n",
        "                \n",
        "                #Metodo\n",
        "                def algun_metodo(self):\n",
        "                    #Código\n",
        "                    return self.param1\n",
        "```\n",
        "\n",
        "\n"
      ]
    },
    {
      "cell_type": "markdown",
      "metadata": {
        "id": "2nB4P5crgqa-",
        "colab_type": "text"
      },
      "source": [
        "De esta manera creamos una clase, que básicamente es una plantilla que me permitira crear un objeto según sus propiedades y métodos."
      ]
    },
    {
      "cell_type": "code",
      "metadata": {
        "id": "HIKD1h-8gyJ1",
        "colab_type": "code",
        "colab": {}
      },
      "source": [
        "class Mesero():\n",
        "    pass"
      ],
      "execution_count": 0,
      "outputs": []
    },
    {
      "cell_type": "markdown",
      "metadata": {
        "id": "ehQpK1OMgzoV",
        "colab_type": "text"
      },
      "source": [
        "Para comenzar asignarle atributos a nuestro objeto `Mesero()`, debemos crear con una instancia, para ello se emplea la función `__init__()` o mejor conocido como CONSTRUCTOR."
      ]
    },
    {
      "cell_type": "code",
      "metadata": {
        "id": "vBfNY2iJhVsP",
        "colab_type": "code",
        "colab": {}
      },
      "source": [
        "# Creamos la clase (Es la plantilla)\n",
        "class Mesero():\n",
        "    \n",
        "    # Creamos la instancia con el constructor.\n",
        "    def __init__():\n",
        "        pass"
      ],
      "execution_count": 0,
      "outputs": []
    },
    {
      "cell_type": "markdown",
      "metadata": {
        "id": "jZmKzUvahYba",
        "colab_type": "text"
      },
      "source": [
        "Ahora debemos inicializar la instancia que acabamos de crear, para ello utilizamos el parametro `self`, este parametro nos permitira inicializar cualquier instancia que hayamos creado. Siempre tiene que usarse para instancias o métodos."
      ]
    },
    {
      "cell_type": "code",
      "metadata": {
        "id": "j7icyIVqhl9m",
        "colab_type": "code",
        "colab": {}
      },
      "source": [
        "# Creamos la clase\n",
        "class Mesero():\n",
        "    \n",
        "    # Creamos la instancia con el constructor.\n",
        "    def __init__(self): # <--- al incluir el parametro self estamos inicializando el constructor.\n",
        "        pass"
      ],
      "execution_count": 0,
      "outputs": []
    },
    {
      "cell_type": "markdown",
      "metadata": {
        "id": "OJodKrbphoo2",
        "colab_type": "text"
      },
      "source": [
        "A partir de este punto ya hemos avanzado bastante en la creación del objeto `Mesero()`. Recapitulemos:\n",
        "\n",
        "1. Creamos la clase `Mesero()`. Recordemos que una clase es una plantilla del objeto que queremos crear, en este caso un mesero.\n",
        "\n",
        "\n",
        "2. Creamos la instancia para definir nuestro objeto y comenzar a darle atributos con el constructor `__init()__`.\n",
        "\n",
        "\n",
        "3. Inicializamos la instancia antes creada con el parametro `self`. Este parametro siempre se debe incluir en cualquier instancia o método (NO OLVIDAR).\n",
        "\n",
        "\n",
        "\n",
        "---\n",
        "\n",
        "Terminemos de crear el objeto Mesero y Camarera para luego seguir con la explicación:\n"
      ]
    },
    {
      "cell_type": "code",
      "metadata": {
        "id": "SNOcDafDd9UG",
        "colab_type": "code",
        "colab": {}
      },
      "source": [
        "class Mesero():\n",
        "    \n",
        "    # Constructor inicializador\n",
        "    def __init__(self, nombre, edad, idiomas, exp, perm):\n",
        "        \n",
        "        self.nombre = nombre\n",
        "        self.edad = edad\n",
        "        self.idiomas = idiomas\n",
        "        self.exp = exp\n",
        "        self.perm = perm\n",
        "    \n",
        "    # Metodos\n",
        "    def presentacion(self):\n",
        "        print('Mi nombre es ' + self.nombre + ' tengo ' + str(self.edad)\n",
        "               + ' años y hablo ' + self.idiomas[0] + ' e ' + self.idiomas[1])"
      ],
      "execution_count": 0,
      "outputs": []
    },
    {
      "cell_type": "code",
      "metadata": {
        "id": "lmQmFVIieG3p",
        "colab_type": "code",
        "colab": {}
      },
      "source": [
        "mesero1 = Mesero('Ronny', 26, ['Español', 'Ingles'], 2, True)"
      ],
      "execution_count": 0,
      "outputs": []
    },
    {
      "cell_type": "code",
      "metadata": {
        "id": "ldzGQhkzeQbP",
        "colab_type": "code",
        "outputId": "e894d466-acb2-467a-e1ea-98d33f107b76",
        "colab": {
          "base_uri": "https://localhost:8080/",
          "height": 34
        }
      },
      "source": [
        "type(mesero1)"
      ],
      "execution_count": 0,
      "outputs": [
        {
          "output_type": "execute_result",
          "data": {
            "text/plain": [
              "__main__.Mesero"
            ]
          },
          "metadata": {
            "tags": []
          },
          "execution_count": 12
        }
      ]
    },
    {
      "cell_type": "code",
      "metadata": {
        "id": "OvQVcecDeR13",
        "colab_type": "code",
        "outputId": "e293462e-7e03-42ab-d56d-09809adad366",
        "colab": {
          "base_uri": "https://localhost:8080/",
          "height": 34
        }
      },
      "source": [
        "mesero1"
      ],
      "execution_count": 0,
      "outputs": [
        {
          "output_type": "execute_result",
          "data": {
            "text/plain": [
              "<__main__.Mesero at 0x7f447acc8a20>"
            ]
          },
          "metadata": {
            "tags": []
          },
          "execution_count": 13
        }
      ]
    },
    {
      "cell_type": "code",
      "metadata": {
        "id": "0uy3N6yCeS2w",
        "colab_type": "code",
        "outputId": "87daab25-7c76-4c24-f6c1-7861e841f550",
        "colab": {
          "base_uri": "https://localhost:8080/",
          "height": 34
        }
      },
      "source": [
        "mesero1.edad"
      ],
      "execution_count": 0,
      "outputs": [
        {
          "output_type": "execute_result",
          "data": {
            "text/plain": [
              "26"
            ]
          },
          "metadata": {
            "tags": []
          },
          "execution_count": 14
        }
      ]
    },
    {
      "cell_type": "code",
      "metadata": {
        "id": "EoFmaz_eeUsu",
        "colab_type": "code",
        "outputId": "fe0fc1bf-ee8d-4274-d87f-ffe704b29403",
        "colab": {
          "base_uri": "https://localhost:8080/",
          "height": 34
        }
      },
      "source": [
        "mesero1.nombre"
      ],
      "execution_count": 0,
      "outputs": [
        {
          "output_type": "execute_result",
          "data": {
            "text/plain": [
              "'Ronny'"
            ]
          },
          "metadata": {
            "tags": []
          },
          "execution_count": 15
        }
      ]
    },
    {
      "cell_type": "code",
      "metadata": {
        "id": "XTrRKj70eV6f",
        "colab_type": "code",
        "outputId": "c5a7a076-5aae-4b7b-a778-0f8815780655",
        "colab": {
          "base_uri": "https://localhost:8080/",
          "height": 34
        }
      },
      "source": [
        "mesero1.exp"
      ],
      "execution_count": 0,
      "outputs": [
        {
          "output_type": "execute_result",
          "data": {
            "text/plain": [
              "2"
            ]
          },
          "metadata": {
            "tags": []
          },
          "execution_count": 16
        }
      ]
    },
    {
      "cell_type": "code",
      "metadata": {
        "id": "WUBaW3hJeXaB",
        "colab_type": "code",
        "outputId": "0834d671-27b5-4368-ab8a-8b3e1ff9cedd",
        "colab": {
          "base_uri": "https://localhost:8080/",
          "height": 34
        }
      },
      "source": [
        "mesero1.perm"
      ],
      "execution_count": 0,
      "outputs": [
        {
          "output_type": "execute_result",
          "data": {
            "text/plain": [
              "True"
            ]
          },
          "metadata": {
            "tags": []
          },
          "execution_count": 17
        }
      ]
    },
    {
      "cell_type": "code",
      "metadata": {
        "id": "HxGWuRSSeg64",
        "colab_type": "code",
        "outputId": "d17c19cf-b37c-4621-963b-2e16d78cc747",
        "colab": {
          "base_uri": "https://localhost:8080/",
          "height": 34
        }
      },
      "source": [
        "mesero1.presentacion()"
      ],
      "execution_count": 0,
      "outputs": [
        {
          "output_type": "stream",
          "text": [
            "Mi nombre es Ronny tengo 26 años y hablo Español e Ingles\n"
          ],
          "name": "stdout"
        }
      ]
    },
    {
      "cell_type": "markdown",
      "metadata": {
        "id": "5M0Gg04zeoh3",
        "colab_type": "text"
      },
      "source": [
        "\n",
        "\n",
        "---\n",
        "\n",
        "\n",
        "De esta manera hemos creado el objeto mesero a partir de la clase Mesero() la cual es una plantilla que nos permite definir al objeto en cuestión a partir de sus atributos y métodos.\n",
        "\n",
        "Cada vez que llegue un nuevo empleado se le debe asignar a una nueva variable la clase Mesero() y definirlo en función a sus propiedades.\n",
        "\n",
        "De manera analoga podriamos crear una clase para el objeto Camarera()."
      ]
    },
    {
      "cell_type": "markdown",
      "metadata": {
        "id": "aHFqrWu3AWir",
        "colab_type": "text"
      },
      "source": [
        "# Continuación Clase 5"
      ]
    },
    {
      "cell_type": "code",
      "metadata": {
        "id": "e4GY_9q7AZpR",
        "colab_type": "code",
        "colab": {}
      },
      "source": [
        "class Circulo():\n",
        "\n",
        "  pi = 3.1416\n",
        "\n",
        "  def __init__(self, radio):\n",
        "\n",
        "    self.radio = radio\n",
        "\n",
        "  def area(self):\n",
        "\n",
        "    return self.pi * self.radio ** 2"
      ],
      "execution_count": 0,
      "outputs": []
    },
    {
      "cell_type": "markdown",
      "metadata": {
        "id": "BjLSjCbnBE3H",
        "colab_type": "text"
      },
      "source": [
        "En esta explicación, hemos creado una plantilla para el objeto `Circulo()`. Luego, hemos creado la instancia para definir nuestro objeto mediante la función `__init__()`. La hemos iniciado con el parametro `self` y finalmente hemos creado una `variable de instancia`, `radio`.\n",
        "\n",
        "Las variables de instancia son variables que se crean dentro de una instancia o un método y son propias de ellos. Para emplear estas variables en cualquier operación o calculo es necesario llamarlas con el parámetro `self`.\n",
        "\n",
        "Ahora bien, también es posible crear variables globales para todo el objeto, estas variables se denominan: `variables de clase.`\n",
        "\n",
        "Las `variables de clase` son aquellas que en teoria deberian ser únicas para todo el objeto, o de alguna manera, son aquellas que son constantes durante la creación de todo nuestro objeto. Para emplear estas variables dentro de una instancia o método, también es necesario llamarlas con el parámetro `self`."
      ]
    },
    {
      "cell_type": "code",
      "metadata": {
        "id": "eCq8ndVYDgyI",
        "colab_type": "code",
        "colab": {}
      },
      "source": [
        "circulo = Circulo(30)"
      ],
      "execution_count": 0,
      "outputs": []
    },
    {
      "cell_type": "code",
      "metadata": {
        "id": "CAdxB2c3DuIS",
        "colab_type": "code",
        "outputId": "be870482-d5e0-4a68-ea0c-0eaf27f13a1b",
        "colab": {
          "base_uri": "https://localhost:8080/",
          "height": 34
        }
      },
      "source": [
        "circulo.pi"
      ],
      "execution_count": 0,
      "outputs": [
        {
          "output_type": "execute_result",
          "data": {
            "text/plain": [
              "3.1416"
            ]
          },
          "metadata": {
            "tags": []
          },
          "execution_count": 21
        }
      ]
    },
    {
      "cell_type": "code",
      "metadata": {
        "id": "vohraB9nD3Q7",
        "colab_type": "code",
        "outputId": "cf071130-5027-4d95-fa31-77951db506b4",
        "colab": {
          "base_uri": "https://localhost:8080/",
          "height": 34
        }
      },
      "source": [
        "circulo.radio"
      ],
      "execution_count": 0,
      "outputs": [
        {
          "output_type": "execute_result",
          "data": {
            "text/plain": [
              "30"
            ]
          },
          "metadata": {
            "tags": []
          },
          "execution_count": 22
        }
      ]
    },
    {
      "cell_type": "code",
      "metadata": {
        "id": "D8rRo_zQD4mq",
        "colab_type": "code",
        "outputId": "b4355362-8c5a-4310-b735-fc43fa975e60",
        "colab": {
          "base_uri": "https://localhost:8080/",
          "height": 34
        }
      },
      "source": [
        "circulo.area()"
      ],
      "execution_count": 0,
      "outputs": [
        {
          "output_type": "execute_result",
          "data": {
            "text/plain": [
              "2827.44"
            ]
          },
          "metadata": {
            "tags": []
          },
          "execution_count": 23
        }
      ]
    },
    {
      "cell_type": "markdown",
      "metadata": {
        "id": "5H3b4uOpHf7p",
        "colab_type": "text"
      },
      "source": [
        "# Herencia (Inheritance)"
      ]
    },
    {
      "cell_type": "markdown",
      "metadata": {
        "id": "iMx9gDkMIsfA",
        "colab_type": "text"
      },
      "source": [
        "La herencia tiene que ver con heredar las propiedades de un objeto para usarlos en otro objeto. Veamoslo en código:"
      ]
    },
    {
      "cell_type": "code",
      "metadata": {
        "id": "gyZhu2gYt0dC",
        "colab_type": "code",
        "colab": {}
      },
      "source": [
        "class Estudiante():\n",
        "\n",
        "  def __init__(self, nombre, universidad):\n",
        "\n",
        "    self.nombre = nombre\n",
        "    self.universidad = universidad\n",
        "    self.notas = []\n",
        "  \n",
        "  def promedio(self):\n",
        "    return sum(self.notas) / len(self.notas)\n",
        "\n",
        "class Pasante(Estudiante):\n",
        "\n",
        "  def __init__(self, nombre, universidad, salario):\n",
        "    super().__init__(nombre, universidad)\n",
        "    self.salario = salario\n",
        "    self.salario_semanal = self.salario * 40\n",
        "  \n",
        "  @property\n",
        "  def salario_semanal(self):\n",
        "    return self.salario * 40"
      ],
      "execution_count": 0,
      "outputs": []
    },
    {
      "cell_type": "code",
      "metadata": {
        "id": "mtUTYMQRw9Ci",
        "colab_type": "code",
        "colab": {}
      },
      "source": [
        "Selene = Pasante('Selene','UCV', 15.50)"
      ],
      "execution_count": 0,
      "outputs": []
    },
    {
      "cell_type": "code",
      "metadata": {
        "id": "4zKW2F1bw9Ke",
        "colab_type": "code",
        "colab": {
          "base_uri": "https://localhost:8080/",
          "height": 34
        },
        "outputId": "eca39f15-e4dd-4111-ac2d-275e30914c47"
      },
      "source": [
        "Selene.nombre"
      ],
      "execution_count": 55,
      "outputs": [
        {
          "output_type": "execute_result",
          "data": {
            "text/plain": [
              "'Selene'"
            ]
          },
          "metadata": {
            "tags": []
          },
          "execution_count": 55
        }
      ]
    },
    {
      "cell_type": "code",
      "metadata": {
        "id": "0hhXzP1nw9Re",
        "colab_type": "code",
        "colab": {
          "base_uri": "https://localhost:8080/",
          "height": 34
        },
        "outputId": "ad5fb04e-2ebb-41b5-f845-496841b84bc3"
      },
      "source": [
        "Selene.salario_semanal"
      ],
      "execution_count": 57,
      "outputs": [
        {
          "output_type": "execute_result",
          "data": {
            "text/plain": [
              "620.0"
            ]
          },
          "metadata": {
            "tags": []
          },
          "execution_count": 57
        }
      ]
    },
    {
      "cell_type": "code",
      "metadata": {
        "id": "F4236zVyt0kq",
        "colab_type": "code",
        "colab": {}
      },
      "source": [
        "Evelio = Estudiante('Evelio', 'UCV')"
      ],
      "execution_count": 0,
      "outputs": []
    },
    {
      "cell_type": "code",
      "metadata": {
        "id": "BYV8XYrUt0pm",
        "colab_type": "code",
        "colab": {
          "base_uri": "https://localhost:8080/",
          "height": 34
        },
        "outputId": "db3dce5b-29f1-403a-87ff-a761b2a98165"
      },
      "source": [
        "Evelio.nombre"
      ],
      "execution_count": 28,
      "outputs": [
        {
          "output_type": "execute_result",
          "data": {
            "text/plain": [
              "'Evelio'"
            ]
          },
          "metadata": {
            "tags": []
          },
          "execution_count": 28
        }
      ]
    },
    {
      "cell_type": "code",
      "metadata": {
        "id": "VL2tkkrLt0sN",
        "colab_type": "code",
        "colab": {
          "base_uri": "https://localhost:8080/",
          "height": 34
        },
        "outputId": "03552720-0958-4d7e-ed92-f6ff48818f75"
      },
      "source": [
        "Evelio.universidad"
      ],
      "execution_count": 29,
      "outputs": [
        {
          "output_type": "execute_result",
          "data": {
            "text/plain": [
              "'UCV'"
            ]
          },
          "metadata": {
            "tags": []
          },
          "execution_count": 29
        }
      ]
    },
    {
      "cell_type": "code",
      "metadata": {
        "id": "qOlPI2R5t0wI",
        "colab_type": "code",
        "colab": {}
      },
      "source": [
        "Evelio.notas.append(18)\n",
        "Evelio.notas.append(20)"
      ],
      "execution_count": 0,
      "outputs": []
    },
    {
      "cell_type": "code",
      "metadata": {
        "id": "NuQEITXIvJr5",
        "colab_type": "code",
        "colab": {
          "base_uri": "https://localhost:8080/",
          "height": 34
        },
        "outputId": "af349c65-abfb-40e2-c56e-5df231a2d15e"
      },
      "source": [
        "Evelio.notas"
      ],
      "execution_count": 32,
      "outputs": [
        {
          "output_type": "execute_result",
          "data": {
            "text/plain": [
              "[18, 20]"
            ]
          },
          "metadata": {
            "tags": []
          },
          "execution_count": 32
        }
      ]
    },
    {
      "cell_type": "code",
      "metadata": {
        "id": "YqYppbPxvM2x",
        "colab_type": "code",
        "colab": {
          "base_uri": "https://localhost:8080/",
          "height": 34
        },
        "outputId": "cde26522-6e26-479d-c1a5-9bc460508805"
      },
      "source": [
        "Evelio.promedio()"
      ],
      "execution_count": 33,
      "outputs": [
        {
          "output_type": "execute_result",
          "data": {
            "text/plain": [
              "19.0"
            ]
          },
          "metadata": {
            "tags": []
          },
          "execution_count": 33
        }
      ]
    },
    {
      "cell_type": "code",
      "metadata": {
        "id": "ezx0jikOHNsn",
        "colab_type": "code",
        "colab": {}
      },
      "source": [
        "class Redondear():\n",
        "\n",
        "  def __init__(self, numero):\n",
        "    self.numero = numero\n",
        "\n",
        "  def __str__(self):\n",
        "    return f'El numero redondeado es: {self.numero: 0.2f}'\n",
        "\n",
        "  @classmethod \n",
        "  def sumar(cls, n1, n2):\n",
        "    return cls(n1 + n2)"
      ],
      "execution_count": 0,
      "outputs": []
    },
    {
      "cell_type": "code",
      "metadata": {
        "id": "JpQ6aMbyHx0r",
        "colab_type": "code",
        "colab": {}
      },
      "source": [
        "a = Redondear(18.5432)"
      ],
      "execution_count": 0,
      "outputs": []
    },
    {
      "cell_type": "code",
      "metadata": {
        "id": "oeo5C5ZmH769",
        "colab_type": "code",
        "outputId": "5594bcf8-7972-4c57-f37c-57aefa467ced",
        "colab": {
          "base_uri": "https://localhost:8080/",
          "height": 34
        }
      },
      "source": [
        "a.numero"
      ],
      "execution_count": 0,
      "outputs": [
        {
          "output_type": "execute_result",
          "data": {
            "text/plain": [
              "18.5432"
            ]
          },
          "metadata": {
            "tags": []
          },
          "execution_count": 38
        }
      ]
    },
    {
      "cell_type": "code",
      "metadata": {
        "id": "WCqtR39BH79J",
        "colab_type": "code",
        "outputId": "4e3f311a-d37a-4899-e09b-dd1ab3b3e6ce",
        "colab": {
          "base_uri": "https://localhost:8080/",
          "height": 34
        }
      },
      "source": [
        "print(a)"
      ],
      "execution_count": 0,
      "outputs": [
        {
          "output_type": "stream",
          "text": [
            "El numero redondeado es:  18.54\n"
          ],
          "name": "stdout"
        }
      ]
    },
    {
      "cell_type": "code",
      "metadata": {
        "id": "4sf7k6UWJLTV",
        "colab_type": "code",
        "outputId": "8377e755-1413-4d04-ef5c-8e9f1310d8d5",
        "colab": {
          "base_uri": "https://localhost:8080/",
          "height": 34
        }
      },
      "source": [
        "print(a.sumar(17.234, 18.678))"
      ],
      "execution_count": 0,
      "outputs": [
        {
          "output_type": "stream",
          "text": [
            "El numero redondeado es:  35.91\n"
          ],
          "name": "stdout"
        }
      ]
    },
    {
      "cell_type": "code",
      "metadata": {
        "id": "Ls6zyBX1H7_n",
        "colab_type": "code",
        "colab": {}
      },
      "source": [
        "class Dolar(Redondear):\n",
        "\n",
        "  def __init__(self, numero):\n",
        "    super().__init__(numero)\n",
        "    self.simbolo = '$'\n",
        "\n",
        "  def __str__(self):\n",
        "    return f'La cantidad de dolar es: {self.simbolo}{self.numero: 0.2f}'"
      ],
      "execution_count": 0,
      "outputs": []
    },
    {
      "cell_type": "code",
      "metadata": {
        "id": "u6cvb1Z8IBlk",
        "colab_type": "code",
        "colab": {}
      },
      "source": [
        "b = Dolar(50.2234)"
      ],
      "execution_count": 0,
      "outputs": []
    },
    {
      "cell_type": "code",
      "metadata": {
        "id": "A-sUsUOLIBp0",
        "colab_type": "code",
        "outputId": "380cf549-91b3-44a2-89d4-df69371d3f4a",
        "colab": {
          "base_uri": "https://localhost:8080/",
          "height": 34
        }
      },
      "source": [
        "b.numero"
      ],
      "execution_count": 0,
      "outputs": [
        {
          "output_type": "execute_result",
          "data": {
            "text/plain": [
              "50.2234"
            ]
          },
          "metadata": {
            "tags": []
          },
          "execution_count": 43
        }
      ]
    },
    {
      "cell_type": "code",
      "metadata": {
        "id": "Q4hRJZHqIBsO",
        "colab_type": "code",
        "outputId": "38843357-75e7-41c6-e1ea-72561d551f55",
        "colab": {
          "base_uri": "https://localhost:8080/",
          "height": 34
        }
      },
      "source": [
        "print(b)"
      ],
      "execution_count": 0,
      "outputs": [
        {
          "output_type": "stream",
          "text": [
            "La cantidad de dolar es: $ 50.22\n"
          ],
          "name": "stdout"
        }
      ]
    },
    {
      "cell_type": "code",
      "metadata": {
        "id": "z7zwmQXaIBn8",
        "colab_type": "code",
        "outputId": "52d11445-883f-480d-d1e7-fbe2e9871a31",
        "colab": {
          "base_uri": "https://localhost:8080/",
          "height": 34
        }
      },
      "source": [
        "print(b.sumar(1, 2))"
      ],
      "execution_count": 0,
      "outputs": [
        {
          "output_type": "stream",
          "text": [
            "La cantidad de dolar es: $ 3.00\n"
          ],
          "name": "stdout"
        }
      ]
    },
    {
      "cell_type": "code",
      "metadata": {
        "id": "gG7Kdv1OHlg2",
        "colab_type": "code",
        "colab": {}
      },
      "source": [
        "class Animal():\n",
        "\n",
        "  def __init__(self):\n",
        "    print('Animal creado')\n",
        "  \n",
        "  def quien_soy(self):\n",
        "    print('Soy un animal')\n",
        "\n",
        "  def comer(self):\n",
        "    print('Estoy comiendo')"
      ],
      "execution_count": 0,
      "outputs": []
    },
    {
      "cell_type": "code",
      "metadata": {
        "id": "KtY7RuK0JOlJ",
        "colab_type": "code",
        "outputId": "29a81c8b-b5e7-43de-8181-a7c5984ad96c",
        "colab": {
          "base_uri": "https://localhost:8080/",
          "height": 34
        }
      },
      "source": [
        "animal = Animal()"
      ],
      "execution_count": 0,
      "outputs": [
        {
          "output_type": "stream",
          "text": [
            "Animal creado\n"
          ],
          "name": "stdout"
        }
      ]
    },
    {
      "cell_type": "code",
      "metadata": {
        "id": "e-dZEPNWJRoa",
        "colab_type": "code",
        "outputId": "aab6e1ab-af34-42f5-f111-7d14eff429b4",
        "colab": {
          "base_uri": "https://localhost:8080/",
          "height": 34
        }
      },
      "source": [
        "animal.comer()"
      ],
      "execution_count": 0,
      "outputs": [
        {
          "output_type": "stream",
          "text": [
            "Estoy comiendo\n"
          ],
          "name": "stdout"
        }
      ]
    },
    {
      "cell_type": "code",
      "metadata": {
        "id": "EMlm9Y8TJVC5",
        "colab_type": "code",
        "outputId": "ec4e8637-fb51-4055-a801-c60467971346",
        "colab": {
          "base_uri": "https://localhost:8080/",
          "height": 34
        }
      },
      "source": [
        "animal.quien_soy()"
      ],
      "execution_count": 0,
      "outputs": [
        {
          "output_type": "stream",
          "text": [
            "Soy un animal\n"
          ],
          "name": "stdout"
        }
      ]
    },
    {
      "cell_type": "code",
      "metadata": {
        "id": "0x2S8NnWJWhY",
        "colab_type": "code",
        "colab": {}
      },
      "source": [
        "class Perro(Animal):\n",
        "\n",
        "  def __init__(self):\n",
        "    Animal.__init__(self)\n",
        "    print('Perro creado')\n",
        "\n",
        "  def ladrar(self):\n",
        "    print('WOOF!')\n",
        "\n",
        "  def comer(self):\n",
        "    print('Soy un perro y estoy comiendo')"
      ],
      "execution_count": 0,
      "outputs": []
    },
    {
      "cell_type": "code",
      "metadata": {
        "id": "gHi7rgsdJ_CA",
        "colab_type": "code",
        "outputId": "b8536d91-9440-46f9-ae37-cb8ad6b8ce64",
        "colab": {
          "base_uri": "https://localhost:8080/",
          "height": 50
        }
      },
      "source": [
        "perro = Perro()"
      ],
      "execution_count": 0,
      "outputs": [
        {
          "output_type": "stream",
          "text": [
            "Animal creado\n",
            "Perro creado\n"
          ],
          "name": "stdout"
        }
      ]
    },
    {
      "cell_type": "code",
      "metadata": {
        "id": "MNnvZ4I_KCbB",
        "colab_type": "code",
        "outputId": "ee93e00e-4deb-44a2-a6a0-2b63c9886fe8",
        "colab": {
          "base_uri": "https://localhost:8080/",
          "height": 34
        }
      },
      "source": [
        "perro.comer()"
      ],
      "execution_count": 0,
      "outputs": [
        {
          "output_type": "stream",
          "text": [
            "Soy un perro y estoy comiendo\n"
          ],
          "name": "stdout"
        }
      ]
    },
    {
      "cell_type": "code",
      "metadata": {
        "id": "2oJswpNsKXeQ",
        "colab_type": "code",
        "outputId": "5371d58b-71c8-4c21-e21b-5cec12591b17",
        "colab": {
          "base_uri": "https://localhost:8080/",
          "height": 34
        }
      },
      "source": [
        "perro.quien_soy()"
      ],
      "execution_count": 0,
      "outputs": [
        {
          "output_type": "stream",
          "text": [
            "Soy un animal\n"
          ],
          "name": "stdout"
        }
      ]
    },
    {
      "cell_type": "code",
      "metadata": {
        "id": "4RB_psBsKZho",
        "colab_type": "code",
        "outputId": "334988e8-ab47-4912-d00b-f8d925463b40",
        "colab": {
          "base_uri": "https://localhost:8080/",
          "height": 34
        }
      },
      "source": [
        "perro.ladrar()"
      ],
      "execution_count": 0,
      "outputs": [
        {
          "output_type": "stream",
          "text": [
            "WOOF!\n"
          ],
          "name": "stdout"
        }
      ]
    },
    {
      "cell_type": "markdown",
      "metadata": {
        "id": "5rwHH6MgL_ar",
        "colab_type": "text"
      },
      "source": [
        "# Métodos especiales"
      ]
    },
    {
      "cell_type": "code",
      "metadata": {
        "id": "M8mXkC3DNLUk",
        "colab_type": "code",
        "colab": {}
      },
      "source": [
        "lista = [1, 2, 3, 4, 5]"
      ],
      "execution_count": 0,
      "outputs": []
    },
    {
      "cell_type": "code",
      "metadata": {
        "id": "04-aCF8hNPpo",
        "colab_type": "code",
        "outputId": "b6a94dca-0a09-4810-9092-2709fd24912b",
        "colab": {
          "base_uri": "https://localhost:8080/",
          "height": 34
        }
      },
      "source": [
        "print(lista)"
      ],
      "execution_count": 0,
      "outputs": [
        {
          "output_type": "stream",
          "text": [
            "[1, 2, 3, 4, 5]\n"
          ],
          "name": "stdout"
        }
      ]
    },
    {
      "cell_type": "code",
      "metadata": {
        "id": "oHKE-TS9NPTX",
        "colab_type": "code",
        "outputId": "736f40c7-a247-4d0e-97b3-cdda1234e255",
        "colab": {
          "base_uri": "https://localhost:8080/",
          "height": 34
        }
      },
      "source": [
        "len(lista)"
      ],
      "execution_count": 0,
      "outputs": [
        {
          "output_type": "execute_result",
          "data": {
            "text/plain": [
              "5"
            ]
          },
          "metadata": {
            "tags": []
          },
          "execution_count": 35
        }
      ]
    },
    {
      "cell_type": "markdown",
      "metadata": {
        "id": "jJzCrGfyNTjn",
        "colab_type": "text"
      },
      "source": [
        "Como podemos obtener unos metodos parecidos al print y al len empleando las clases?"
      ]
    },
    {
      "cell_type": "code",
      "metadata": {
        "id": "_-mN40bnKzeY",
        "colab_type": "code",
        "colab": {}
      },
      "source": [
        "class Muestra():\n",
        "  pass"
      ],
      "execution_count": 0,
      "outputs": []
    },
    {
      "cell_type": "code",
      "metadata": {
        "id": "tZc6rwLkMI4I",
        "colab_type": "code",
        "outputId": "a9a93eb3-e4f1-435b-f4a2-177f223ac989",
        "colab": {
          "base_uri": "https://localhost:8080/",
          "height": 34
        }
      },
      "source": [
        "muestra = Muestra()\n",
        "print(muestra)"
      ],
      "execution_count": 0,
      "outputs": [
        {
          "output_type": "stream",
          "text": [
            "<__main__.Muestra object at 0x7f447b52f320>\n"
          ],
          "name": "stdout"
        }
      ]
    },
    {
      "cell_type": "code",
      "metadata": {
        "id": "tJBvkJIi0UaK",
        "colab_type": "code",
        "colab": {}
      },
      "source": [
        "class Libro():\n",
        "\n",
        "  def __init__(self, nombre, autor, paginas):\n",
        "    self.nombre = nombre\n",
        "    self.autor = autor\n",
        "    self.paginas = paginas\n",
        "  \n",
        "  def __str__(self):\n",
        "    return f'Este libro se llama {self.nombre} y esta escrito por {self.autor}'\n",
        "\n",
        "  def __len__(self):\n",
        "    return self.paginas"
      ],
      "execution_count": 0,
      "outputs": []
    },
    {
      "cell_type": "code",
      "metadata": {
        "id": "x-SEKAOR0Ugq",
        "colab_type": "code",
        "colab": {}
      },
      "source": [
        "hp = Libro('Harry Potter', 'JKR', 200)"
      ],
      "execution_count": 0,
      "outputs": []
    },
    {
      "cell_type": "code",
      "metadata": {
        "id": "DtFUB5Yr0UkV",
        "colab_type": "code",
        "colab": {
          "base_uri": "https://localhost:8080/",
          "height": 34
        },
        "outputId": "2564d574-bce5-476c-812d-cc43bf872193"
      },
      "source": [
        "print(hp)"
      ],
      "execution_count": 70,
      "outputs": [
        {
          "output_type": "stream",
          "text": [
            "Este libro se llama Harry Potter y esta escrito por JKR\n"
          ],
          "name": "stdout"
        }
      ]
    },
    {
      "cell_type": "code",
      "metadata": {
        "id": "EcuFTE1I0Unq",
        "colab_type": "code",
        "colab": {
          "base_uri": "https://localhost:8080/",
          "height": 34
        },
        "outputId": "a196aa1b-4a98-4e4a-8aa8-bc617f71380b"
      },
      "source": [
        "len(hp)"
      ],
      "execution_count": 71,
      "outputs": [
        {
          "output_type": "execute_result",
          "data": {
            "text/plain": [
              "200"
            ]
          },
          "metadata": {
            "tags": []
          },
          "execution_count": 71
        }
      ]
    },
    {
      "cell_type": "code",
      "metadata": {
        "id": "CkRotrhY0Ud0",
        "colab_type": "code",
        "colab": {}
      },
      "source": [
        "class Garage():\n",
        "  def __init__(self):\n",
        "    self.carros = []\n",
        "\n",
        "  def __str__(self):\n",
        "    return f'En el garage hay un carro {self.carros[0]} y {self.carros[1]}'\n",
        "\n",
        "  def __len__(self):\n",
        "    return len(self.carros)\n",
        "\n",
        "  def __getitem__(self, i):\n",
        "    return self.carros[i]\n",
        "  \n",
        "  def __del__(self):\n",
        "    print('Me robaron los carros papa')"
      ],
      "execution_count": 0,
      "outputs": []
    },
    {
      "cell_type": "code",
      "metadata": {
        "id": "7swTqLEG2pgb",
        "colab_type": "code",
        "colab": {}
      },
      "source": [
        "toyota = Garage()"
      ],
      "execution_count": 0,
      "outputs": []
    },
    {
      "cell_type": "code",
      "metadata": {
        "id": "hbO0pdWP2p7X",
        "colab_type": "code",
        "colab": {}
      },
      "source": [
        "toyota.carros.append('Yaris')"
      ],
      "execution_count": 0,
      "outputs": []
    },
    {
      "cell_type": "code",
      "metadata": {
        "id": "kPRgGdjg2p-a",
        "colab_type": "code",
        "colab": {}
      },
      "source": [
        "toyota.carros.append('Corolla')"
      ],
      "execution_count": 0,
      "outputs": []
    },
    {
      "cell_type": "code",
      "metadata": {
        "id": "k6e12YIT2-JX",
        "colab_type": "code",
        "colab": {
          "base_uri": "https://localhost:8080/",
          "height": 34
        },
        "outputId": "0bc409e7-49cd-44c2-c065-9b551e191a59"
      },
      "source": [
        "print(toyota)"
      ],
      "execution_count": 125,
      "outputs": [
        {
          "output_type": "stream",
          "text": [
            "En el garage hay un carro Yaris y Corolla\n"
          ],
          "name": "stdout"
        }
      ]
    },
    {
      "cell_type": "code",
      "metadata": {
        "id": "tGb-AhqO3QAY",
        "colab_type": "code",
        "colab": {
          "base_uri": "https://localhost:8080/",
          "height": 34
        },
        "outputId": "3e94c9ac-c88b-4fc7-e41b-3b83c5134c6d"
      },
      "source": [
        "len(toyota)"
      ],
      "execution_count": 116,
      "outputs": [
        {
          "output_type": "execute_result",
          "data": {
            "text/plain": [
              "2"
            ]
          },
          "metadata": {
            "tags": []
          },
          "execution_count": 116
        }
      ]
    },
    {
      "cell_type": "code",
      "metadata": {
        "id": "oVAe8iCr3aCP",
        "colab_type": "code",
        "colab": {
          "base_uri": "https://localhost:8080/",
          "height": 34
        },
        "outputId": "6f5c7ac9-d800-4b51-e18e-1457022e99ae"
      },
      "source": [
        "toyota[0]"
      ],
      "execution_count": 117,
      "outputs": [
        {
          "output_type": "execute_result",
          "data": {
            "text/plain": [
              "'Yaris'"
            ]
          },
          "metadata": {
            "tags": []
          },
          "execution_count": 117
        }
      ]
    },
    {
      "cell_type": "code",
      "metadata": {
        "id": "d9HTFad14BwR",
        "colab_type": "code",
        "colab": {
          "base_uri": "https://localhost:8080/",
          "height": 51
        },
        "outputId": "a1663f6b-dc30-4cd6-c35e-bc3a21574491"
      },
      "source": [
        "for carros in toyota:\n",
        "  print(carros)"
      ],
      "execution_count": 118,
      "outputs": [
        {
          "output_type": "stream",
          "text": [
            "Yaris\n",
            "Corolla\n"
          ],
          "name": "stdout"
        }
      ]
    },
    {
      "cell_type": "code",
      "metadata": {
        "id": "R652Khoe5B0p",
        "colab_type": "code",
        "colab": {
          "base_uri": "https://localhost:8080/",
          "height": 34
        },
        "outputId": "1d35bf58-16a9-444a-e9be-960dae75b42a"
      },
      "source": [
        "del toyota"
      ],
      "execution_count": 119,
      "outputs": [
        {
          "output_type": "stream",
          "text": [
            "Me robaron los carros papa\n"
          ],
          "name": "stdout"
        }
      ]
    },
    {
      "cell_type": "markdown",
      "metadata": {
        "id": "KLxSfofnxEVB",
        "colab_type": "text"
      },
      "source": [
        "# Problema 1\n",
        "\n",
        "\n",
        "\n",
        "---\n",
        "\n",
        "Crea un objeto llamado `Recta()` que reciba como parametros de instancia un par de coordenadas como tuplas y devuelva el calculo de la pendiente y la distancia de los puntos hacia la recta."
      ]
    },
    {
      "cell_type": "code",
      "metadata": {
        "id": "2bF6PxXqBBqz",
        "colab_type": "code",
        "colab": {}
      },
      "source": [
        "class Recta():\n",
        "\n",
        "  def __init__(self,co1,co2):\n",
        "    self.co1 = co1\n",
        "    self.co2 = co2\n",
        "\n",
        "  def pendiente(self):\n",
        "    x1, y1 = self.co1\n",
        "    x2, y2 = self.co2\n",
        "    m = (y2-y1)/(x2-x1)\n",
        "    return m\n",
        "\n",
        "  def distancia(self):\n",
        "    x1, y1 = self.co1\n",
        "    x2, y2 = self.co2\n",
        "    d = ((y2-y1)**2+(x2-x1)**2)**(1/2)\n",
        "    return d\n",
        "\n",
        "  def __str__(self):\n",
        "    return f'La pendiente de la recta es: {self.pendiente(): 0.2f} y la distancia a la recta es {self.distancia(): 0.2f}'\n"
      ],
      "execution_count": 0,
      "outputs": []
    },
    {
      "cell_type": "code",
      "metadata": {
        "id": "9ghVX6ecEr1l",
        "colab_type": "code",
        "colab": {}
      },
      "source": [
        "r = Recta((3,4),(1,2))"
      ],
      "execution_count": 0,
      "outputs": []
    },
    {
      "cell_type": "code",
      "metadata": {
        "id": "l_FK0pxtFVFY",
        "colab_type": "code",
        "colab": {
          "base_uri": "https://localhost:8080/",
          "height": 34
        },
        "outputId": "417af642-7ae2-4650-db0c-d2dcc92220e1"
      },
      "source": [
        "r.pendiente()"
      ],
      "execution_count": 212,
      "outputs": [
        {
          "output_type": "execute_result",
          "data": {
            "text/plain": [
              "1.0"
            ]
          },
          "metadata": {
            "tags": []
          },
          "execution_count": 212
        }
      ]
    },
    {
      "cell_type": "code",
      "metadata": {
        "id": "9GH_JigdFSSM",
        "colab_type": "code",
        "colab": {
          "base_uri": "https://localhost:8080/",
          "height": 34
        },
        "outputId": "738d6636-6e5c-4a48-e23f-c6582287f340"
      },
      "source": [
        "r.distancia()"
      ],
      "execution_count": 213,
      "outputs": [
        {
          "output_type": "execute_result",
          "data": {
            "text/plain": [
              "2.8284271247461903"
            ]
          },
          "metadata": {
            "tags": []
          },
          "execution_count": 213
        }
      ]
    },
    {
      "cell_type": "code",
      "metadata": {
        "id": "WbZ5LtrfFJQ3",
        "colab_type": "code",
        "colab": {
          "base_uri": "https://localhost:8080/",
          "height": 34
        },
        "outputId": "b5a87c98-5277-461e-cb0d-891a3b79fcdf"
      },
      "source": [
        "print(r)"
      ],
      "execution_count": 214,
      "outputs": [
        {
          "output_type": "stream",
          "text": [
            "La pendiente de la recta es:  1.00 y la distancia a la recta es  2.83\n"
          ],
          "name": "stdout"
        }
      ]
    },
    {
      "cell_type": "markdown",
      "metadata": {
        "id": "fgW_OAuax3jq",
        "colab_type": "text"
      },
      "source": [
        "# Problema 2\n",
        "\n",
        "\n",
        "\n",
        "---\n",
        "\n",
        "Crea un objeto llamado `Cilindro()` que reciba como parametros de instancia la altura y el radio y devuelva el calculo del volumen y del area superficial."
      ]
    },
    {
      "cell_type": "code",
      "metadata": {
        "id": "7jmHQfvIGGnS",
        "colab_type": "code",
        "colab": {}
      },
      "source": [
        "class Cilindro():\n",
        "\n",
        "  pi = 3.1415\n",
        "\n",
        "  def __init__(self,alt,radio):\n",
        "    self.alt = alt\n",
        "    self.radio = radio\n",
        "\n",
        "  def volumen(self):\n",
        "    v = self.pi*self.radio**2*self.alt\n",
        "    return v\n",
        "\n",
        "  def arsup(self):\n",
        "    asu = 2*self.pi*self.radio*self.alt + 2*self.pi*self.radio**2\n",
        "    return asu"
      ],
      "execution_count": 0,
      "outputs": []
    },
    {
      "cell_type": "code",
      "metadata": {
        "id": "ayAwPKBDHOpH",
        "colab_type": "code",
        "colab": {}
      },
      "source": [
        "g = Cilindro(3,5)"
      ],
      "execution_count": 0,
      "outputs": []
    },
    {
      "cell_type": "code",
      "metadata": {
        "id": "f5keO7rxHW6B",
        "colab_type": "code",
        "colab": {
          "base_uri": "https://localhost:8080/",
          "height": 34
        },
        "outputId": "8fc3d9b8-dd99-42e2-a93c-d277974cc784"
      },
      "source": [
        "g.volumen()"
      ],
      "execution_count": 218,
      "outputs": [
        {
          "output_type": "execute_result",
          "data": {
            "text/plain": [
              "235.6125"
            ]
          },
          "metadata": {
            "tags": []
          },
          "execution_count": 218
        }
      ]
    },
    {
      "cell_type": "code",
      "metadata": {
        "id": "w-nK5tPmHTTU",
        "colab_type": "code",
        "colab": {
          "base_uri": "https://localhost:8080/",
          "height": 34
        },
        "outputId": "9ac42f89-acba-46f0-fa02-22d837887065"
      },
      "source": [
        "g.arsup()"
      ],
      "execution_count": 217,
      "outputs": [
        {
          "output_type": "execute_result",
          "data": {
            "text/plain": [
              "251.32000000000002"
            ]
          },
          "metadata": {
            "tags": []
          },
          "execution_count": 217
        }
      ]
    },
    {
      "cell_type": "markdown",
      "metadata": {
        "id": "FCvAuQ0Gv76a",
        "colab_type": "text"
      },
      "source": [
        "# Paquetes y Modulos"
      ]
    }
  ]
}