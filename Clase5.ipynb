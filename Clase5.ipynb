{
  "nbformat": 4,
  "nbformat_minor": 0,
  "metadata": {
    "colab": {
      "name": "Clase5.ipynb",
      "provenance": [],
      "collapsed_sections": [],
      "authorship_tag": "ABX9TyPTTB6zZSnVY0jWecVJE6IF",
      "include_colab_link": true
    },
    "kernelspec": {
      "name": "python3",
      "display_name": "Python 3"
    },
    "accelerator": "GPU"
  },
  "cells": [
    {
      "cell_type": "markdown",
      "metadata": {
        "id": "view-in-github",
        "colab_type": "text"
      },
      "source": [
        "<a href=\"https://colab.research.google.com/github/Portilloronny6/cursoSelene/blob/master/Clase5.ipynb\" target=\"_parent\"><img src=\"https://colab.research.google.com/assets/colab-badge.svg\" alt=\"Open In Colab\"/></a>"
      ]
    },
    {
      "cell_type": "markdown",
      "metadata": {
        "id": "1yrsT5-2evIo",
        "colab_type": "text"
      },
      "source": [
        "# Clase 5"
      ]
    },
    {
      "cell_type": "markdown",
      "metadata": {
        "id": "j_BVE9SxeyPv",
        "colab_type": "text"
      },
      "source": [
        "\n",
        "\n",
        "---\n",
        "\n",
        "\n",
        "Imagina que acabas de montar un restaurante vegetariano y necesitas meseros y camareras para que atiendan a tu clientela. Cuando se presentan los candidatos a los cargos antes mencionados, necesitas recabar información acerca de ellos, como por ejemplo:\n",
        "\n",
        "\n",
        "\n",
        "---\n",
        "\n",
        "\n",
        "\n",
        "\n",
        "|                    |      Mesero 1     |      Mesero 2     |     Mesero 3     |\n",
        "|--------------------|:-----------------:|:-----------------:|:----------------:|\n",
        "|             Nombre |       Ronny       |       Evelio      |       Jesus      |\n",
        "|               Edad |         26        |         24        |        26        |\n",
        "|            Idiomas | [Español, Ingles] | [Frances, Aleman] | [Coreano, Chino] |\n",
        "| Experiencia (años) |         2         |         3         |         4        |\n",
        "| Permiso de trabajo |        True       |       False       |       True       |\n",
        "\n",
        "\n",
        "---\n",
        "\n",
        "\n",
        "Así mismo para las camareras:\n",
        "\n",
        "\n",
        "---\n",
        "\n",
        "\n",
        "|                    |     Camarera 1    |     Camarera 2    |    Camarera 3    |\n",
        "|--------------------|:-----------------:|:-----------------:|:----------------:|\n",
        "|             Nombre |       Nancy       |       Maria       |      Carmen      |\n",
        "|               Edad |         21        |         24        |        31        |\n",
        "|            Idiomas | [Español, Ingles] | [Frances, Aleman] | [Coreano, Chino] |\n",
        "| Experiencia (años) |         1         |         0         |         5        |\n",
        "| Permiso de trabajo |        True       |       False       |       True       |\n",
        "\n",
        "\n",
        "---\n",
        "\n",
        "\n",
        "Toda esa información debes almacenarlas en una base de datos usando Python, para ello una solución seria usar los métodos tradicionales de asignación de variables."
      ]
    },
    {
      "cell_type": "code",
      "metadata": {
        "id": "Su9chp4we6u7",
        "colab_type": "code",
        "colab": {}
      },
      "source": [
        "# Mesero 1\n",
        "mesero1Nombre = 'Ronny'\n",
        "mesero1Edad = 26\n",
        "mesero1Idiomas = ['Español', 'Ingles']\n",
        "mesero1Exp = 2\n",
        "mesero1Perm = True\n",
        "\n",
        "# Mesero 2\n",
        "mesero2Nombre = 'Evelio'\n",
        "mesero2Edad = 24\n",
        "mesero2Idiomas = ['Frances', 'Aleman']\n",
        "mesero2Exp = 2\n",
        "mesero2Perm = False\n",
        "\n",
        "# Mesero 3\n",
        "mesero3Nombre = 'Jesus'\n",
        "mesero3Edad = 26\n",
        "mesero3Idiomas = ['Coreano', 'Chino']\n",
        "mesero3Exp = 2\n",
        "mesero3Perm = True"
      ],
      "execution_count": 0,
      "outputs": []
    },
    {
      "cell_type": "markdown",
      "metadata": {
        "id": "IJFLyatFe_7Y",
        "colab_type": "text"
      },
      "source": [
        "O también usando alguna función que facilite el proceso:"
      ]
    },
    {
      "cell_type": "code",
      "metadata": {
        "id": "SPXP9sPwfBt_",
        "colab_type": "code",
        "colab": {}
      },
      "source": [
        "def camarera(nombre, edad, idiomas, exp, perm):\n",
        "    return nombre, edad, idiomas, exp, perm\n",
        "\n",
        "camarera1 = camarera('Nancy', 21, ['Español', 'Ingles'], 1, True)\n",
        "camarera2 = camarera('Maria', 24, ['Frances', 'Aleman'], 0, False)\n",
        "camarera3 = camarera('Carmen', 31, ['Coreano', 'Chino'], 5, True)"
      ],
      "execution_count": 0,
      "outputs": []
    },
    {
      "cell_type": "code",
      "metadata": {
        "id": "NZDlE0zUfD0e",
        "colab_type": "code",
        "colab": {
          "base_uri": "https://localhost:8080/",
          "height": 34
        },
        "outputId": "3a5ed041-7db0-44c2-b6d6-0bcfcf91d9af"
      },
      "source": [
        "camarera1"
      ],
      "execution_count": 12,
      "outputs": [
        {
          "output_type": "execute_result",
          "data": {
            "text/plain": [
              "('Nancy', 21, ['Español', 'Ingles'], 1, True)"
            ]
          },
          "metadata": {
            "tags": []
          },
          "execution_count": 12
        }
      ]
    },
    {
      "cell_type": "code",
      "metadata": {
        "id": "Y1pDsGEkfPF-",
        "colab_type": "code",
        "colab": {
          "base_uri": "https://localhost:8080/",
          "height": 34
        },
        "outputId": "fb825745-6068-490b-ce47-37c3ddcbf0d7"
      },
      "source": [
        "camarera2"
      ],
      "execution_count": 13,
      "outputs": [
        {
          "output_type": "execute_result",
          "data": {
            "text/plain": [
              "('Maria', 24, ['Frances', 'Aleman'], 0, False)"
            ]
          },
          "metadata": {
            "tags": []
          },
          "execution_count": 13
        }
      ]
    },
    {
      "cell_type": "code",
      "metadata": {
        "id": "g3mI6h26fQXW",
        "colab_type": "code",
        "colab": {
          "base_uri": "https://localhost:8080/",
          "height": 34
        },
        "outputId": "58dd5f8b-a4dd-46f7-f336-a767b87a2dfb"
      },
      "source": [
        "camarera3"
      ],
      "execution_count": 14,
      "outputs": [
        {
          "output_type": "execute_result",
          "data": {
            "text/plain": [
              "('Carmen', 31, ['Coreano', 'Chino'], 5, True)"
            ]
          },
          "metadata": {
            "tags": []
          },
          "execution_count": 14
        }
      ]
    },
    {
      "cell_type": "code",
      "metadata": {
        "id": "mj6VDNbafSV2",
        "colab_type": "code",
        "colab": {
          "base_uri": "https://localhost:8080/",
          "height": 34
        },
        "outputId": "af9f564d-9e44-458d-aaa2-fec189e00d4a"
      },
      "source": [
        "type(camarera1)"
      ],
      "execution_count": 15,
      "outputs": [
        {
          "output_type": "execute_result",
          "data": {
            "text/plain": [
              "tuple"
            ]
          },
          "metadata": {
            "tags": []
          },
          "execution_count": 15
        }
      ]
    },
    {
      "cell_type": "markdown",
      "metadata": {
        "id": "7_prHceLfdRf",
        "colab_type": "text"
      },
      "source": [
        "# Programación Orientada a Objetos (POO) o (OOP, por sus siglas en inglés)"
      ]
    },
    {
      "cell_type": "markdown",
      "metadata": {
        "id": "dMktkxlifgK8",
        "colab_type": "text"
      },
      "source": [
        "\n",
        "\n",
        "---\n",
        "\n",
        "\n",
        "Sin embargo, a medida que tu equipo de trabajo vaya aumentando,\n",
        "también lo hará la base de datos y en consecuencia, las lineas de código. Ahora, ninguna de las maneras anteriores es práctica debido a que ni asignando variables ni creando una función es útil para almacenar la información.\n",
        "\n",
        "\n",
        "El método de la función quizá pueda parecer factible pero a la hora de expotar la variable *camarera1* o cualquier otra hacia la base de datos, es probable que ocurran errores de compatibilidad porque lo que se estaría exportando es una tupla de información muy grande. Al final nos rendiriamos y terminariamos usando excel :'v.\n",
        "\n",
        "Pero no todo esta perdido, gracias a los lenguajes que son orientados a objetos, como Python, estos nos brindan herramientas que a priori pueden parecer confusas pero que al entenderlas nos ayudaran mucho. Estas herramientas son **Las Clases.**\n",
        "\n",
        "\n",
        "\n",
        "---\n",
        "\n",
        "*La Programación Orientada a Objetos* hace referencia a que ***TODO es un objeto***, todo lo que existe es un objeto, pero para ser algún objeto, tienes que tener características y atributos propios de un objeto en particular. por ejemplo:\n",
        "\n",
        "¿Qué hace que una casa sea una casa? \n",
        "\n",
        "¿Qué hace que un edificio sea un edificio? o \n",
        "\n",
        "¿Cuál es la diferencia entre un carro y una camioneta? \n",
        "\n",
        "\n",
        "Ese es el tipo de preguntas que se generan al ver los elementos como un objeto y se responden al definirlos a partir de sus atributos.\n",
        "\n",
        "\n",
        "La POO le permite al programador crear sus propios objetos, atributos y métodos. En general, **la POO permite crear código que sea reproducible y organizado.**\n",
        "\n",
        "La base de la POO son las **clases** que nos ayudarán a crear los objetos. En palabras simples, las clases son una plantilla que nos van a permitir definir objetos a partir de sus atributos y métodos.\n",
        "\n",
        "##### POO\n",
        "\n",
        "\n",
        "- Clases\n",
        "- Objetos\n",
        "- Propiedades (atributos)\n",
        "- Métodos\n"
      ]
    },
    {
      "cell_type": "markdown",
      "metadata": {
        "id": "cdi9bFJJgZu4",
        "colab_type": "text"
      },
      "source": [
        "# Sintaxis:\n",
        "\n",
        "```\n",
        "            class NombredelaClase():\n",
        "                \n",
        "                #Constructor\n",
        "                def __init__(self, param1, param2):\n",
        "                    self.param1 = param1\n",
        "                    self.param2 = param2\n",
        "                \n",
        "                #Metodo\n",
        "                def algun_metodo(self):\n",
        "                    #Código\n",
        "                    return self.param1\n",
        "```\n",
        "\n",
        "\n"
      ]
    },
    {
      "cell_type": "markdown",
      "metadata": {
        "id": "2nB4P5crgqa-",
        "colab_type": "text"
      },
      "source": [
        "De esta manera creamos una clase, que básicamente es una plantilla que me permitira crear un objeto según sus propiedades y métodos."
      ]
    },
    {
      "cell_type": "code",
      "metadata": {
        "id": "HIKD1h-8gyJ1",
        "colab_type": "code",
        "colab": {}
      },
      "source": [
        "class Mesero:\n",
        "    pass"
      ],
      "execution_count": 0,
      "outputs": []
    },
    {
      "cell_type": "markdown",
      "metadata": {
        "id": "ehQpK1OMgzoV",
        "colab_type": "text"
      },
      "source": [
        "Para comenzar asignarle atributos a nuestro objeto `Mesero()`, debemos crear con una instancia, para ello se emplea la función `__init__()` o mejor conocido como CONSTRUCTOR."
      ]
    },
    {
      "cell_type": "code",
      "metadata": {
        "id": "vBfNY2iJhVsP",
        "colab_type": "code",
        "colab": {}
      },
      "source": [
        "# Creamos la clase\n",
        "class Mesero():\n",
        "    \n",
        "    # Creamos la instancia con el constructor.\n",
        "    def __init__():\n",
        "        pass"
      ],
      "execution_count": 0,
      "outputs": []
    },
    {
      "cell_type": "markdown",
      "metadata": {
        "id": "jZmKzUvahYba",
        "colab_type": "text"
      },
      "source": [
        "Ahora debemos inicializar la instancia que acabamos de crear, para ello utilizamos el parametro `self`, este parametro nos permitira inicializar cualquier instancia que hayamos creado. Siempre tiene que usarse para instancias o métodos."
      ]
    },
    {
      "cell_type": "code",
      "metadata": {
        "id": "j7icyIVqhl9m",
        "colab_type": "code",
        "colab": {}
      },
      "source": [
        "# Creamos la clase\n",
        "class Mesero():\n",
        "    \n",
        "    # Creamos la instancia con el constructor.\n",
        "    def __init__(self): # <--- al incluir el parametro self estamos inicializando el constructor.\n",
        "        pass"
      ],
      "execution_count": 0,
      "outputs": []
    },
    {
      "cell_type": "markdown",
      "metadata": {
        "id": "OJodKrbphoo2",
        "colab_type": "text"
      },
      "source": [
        "A partir de este punto ya hemos avanzado bastante en la creación del objeto `Mesero()`. Recapitulemos:\n",
        "\n",
        "1. Creamos la clase `Mesero()`. Recordemos que una clase es una plantilla del objeto que queremos crear, en este caso un mesero.\n",
        "\n",
        "\n",
        "2. Creamos la instancia para definir nuestro objeto y comenzar a darle atributos con el constructor `__init()__`.\n",
        "\n",
        "\n",
        "3. Inicializamos la instancia antes creada con el parametro `self`. Este parametro siempre se debe incluir en cualquier instancia o método (NO OLVIDAR).\n",
        "\n",
        "\n",
        "\n",
        "---\n",
        "\n",
        "Terminemos de crear el objeto Mesero y Camarera para luego seguir con la explicación:\n"
      ]
    },
    {
      "cell_type": "code",
      "metadata": {
        "id": "SNOcDafDd9UG",
        "colab_type": "code",
        "colab": {}
      },
      "source": [
        "class Mesero():\n",
        "    \n",
        "    # Constructor inicializador\n",
        "    def __init__(self, nombre, edad, idiomas, exp, perm):\n",
        "        \n",
        "        self.nombre = nombre\n",
        "        self.edad = edad\n",
        "        self.idiomas = idiomas\n",
        "        self.exp = exp\n",
        "        self.perm = perm\n",
        "    \n",
        "    # Metodos\n",
        "    def presentacion(self):\n",
        "        print('Mi nombre es ' + self.nombre + ' tengo ' + str(self.edad)\n",
        "               + ' años y hablo ' + self.idiomas[0] + ' e ' + self.idiomas[1])"
      ],
      "execution_count": 0,
      "outputs": []
    },
    {
      "cell_type": "code",
      "metadata": {
        "id": "lmQmFVIieG3p",
        "colab_type": "code",
        "colab": {}
      },
      "source": [
        "mesero1 = Mesero('Ronny', 26, ['Español', 'Ingles'], 2, True)"
      ],
      "execution_count": 0,
      "outputs": []
    },
    {
      "cell_type": "code",
      "metadata": {
        "id": "ldzGQhkzeQbP",
        "colab_type": "code",
        "colab": {
          "base_uri": "https://localhost:8080/",
          "height": 34
        },
        "outputId": "8f7fcdf1-3bca-4373-babb-6c8aaf1a3a55"
      },
      "source": [
        "type(mesero1)"
      ],
      "execution_count": 3,
      "outputs": [
        {
          "output_type": "execute_result",
          "data": {
            "text/plain": [
              "__main__.Mesero"
            ]
          },
          "metadata": {
            "tags": []
          },
          "execution_count": 3
        }
      ]
    },
    {
      "cell_type": "code",
      "metadata": {
        "id": "OvQVcecDeR13",
        "colab_type": "code",
        "colab": {
          "base_uri": "https://localhost:8080/",
          "height": 34
        },
        "outputId": "e1580219-8f92-47e4-9dce-d7d3a6da9890"
      },
      "source": [
        "mesero1"
      ],
      "execution_count": 4,
      "outputs": [
        {
          "output_type": "execute_result",
          "data": {
            "text/plain": [
              "<__main__.Mesero at 0x7fde0aa705f8>"
            ]
          },
          "metadata": {
            "tags": []
          },
          "execution_count": 4
        }
      ]
    },
    {
      "cell_type": "code",
      "metadata": {
        "id": "0uy3N6yCeS2w",
        "colab_type": "code",
        "colab": {
          "base_uri": "https://localhost:8080/",
          "height": 34
        },
        "outputId": "c0aa620f-8d45-4a4b-e3af-5cc976da4a75"
      },
      "source": [
        "mesero1.edad"
      ],
      "execution_count": 5,
      "outputs": [
        {
          "output_type": "execute_result",
          "data": {
            "text/plain": [
              "26"
            ]
          },
          "metadata": {
            "tags": []
          },
          "execution_count": 5
        }
      ]
    },
    {
      "cell_type": "code",
      "metadata": {
        "id": "EoFmaz_eeUsu",
        "colab_type": "code",
        "colab": {
          "base_uri": "https://localhost:8080/",
          "height": 34
        },
        "outputId": "1f2e771c-ee37-45dc-8dd2-7262b6d7330b"
      },
      "source": [
        "mesero1.nombre"
      ],
      "execution_count": 6,
      "outputs": [
        {
          "output_type": "execute_result",
          "data": {
            "text/plain": [
              "'Ronny'"
            ]
          },
          "metadata": {
            "tags": []
          },
          "execution_count": 6
        }
      ]
    },
    {
      "cell_type": "code",
      "metadata": {
        "id": "XTrRKj70eV6f",
        "colab_type": "code",
        "colab": {
          "base_uri": "https://localhost:8080/",
          "height": 34
        },
        "outputId": "6f83076f-b6b5-4ad8-c626-e3ffbc9b3be0"
      },
      "source": [
        "mesero1.exp"
      ],
      "execution_count": 7,
      "outputs": [
        {
          "output_type": "execute_result",
          "data": {
            "text/plain": [
              "2"
            ]
          },
          "metadata": {
            "tags": []
          },
          "execution_count": 7
        }
      ]
    },
    {
      "cell_type": "code",
      "metadata": {
        "id": "WUBaW3hJeXaB",
        "colab_type": "code",
        "colab": {
          "base_uri": "https://localhost:8080/",
          "height": 34
        },
        "outputId": "4f7219c4-fa85-4989-95ac-02238cc01aa0"
      },
      "source": [
        "mesero1.perm"
      ],
      "execution_count": 8,
      "outputs": [
        {
          "output_type": "execute_result",
          "data": {
            "text/plain": [
              "True"
            ]
          },
          "metadata": {
            "tags": []
          },
          "execution_count": 8
        }
      ]
    },
    {
      "cell_type": "code",
      "metadata": {
        "id": "HxGWuRSSeg64",
        "colab_type": "code",
        "colab": {
          "base_uri": "https://localhost:8080/",
          "height": 34
        },
        "outputId": "8a27107b-191d-4541-f26c-d714d4fce7b2"
      },
      "source": [
        "mesero1.presentacion()"
      ],
      "execution_count": 9,
      "outputs": [
        {
          "output_type": "stream",
          "text": [
            "Mi nombre es Ronny tengo 26 años y hablo Español e Ingles\n"
          ],
          "name": "stdout"
        }
      ]
    },
    {
      "cell_type": "markdown",
      "metadata": {
        "id": "5M0Gg04zeoh3",
        "colab_type": "text"
      },
      "source": [
        "\n",
        "\n",
        "---\n",
        "\n",
        "\n",
        "De esta manera hemos creado el objeto mesero a partir de la clase Mesero() la cual es una plantilla que nos permite definir al objeto en cuestión a partir de sus atributos y métodos.\n",
        "\n",
        "Cada vez que llegue un nuevo empleado se le debe asignar a una nueva variable la clase Mesero() y definirlo en función a sus propiedades.\n",
        "\n",
        "De manera analoga podriamos crear una clase para el objeto Camarera()."
      ]
    }
  ]
}