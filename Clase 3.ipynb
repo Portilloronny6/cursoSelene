{
 "cells": [
  {
   "cell_type": "markdown",
   "metadata": {},
   "source": [
    "# Clase 3"
   ]
  },
  {
   "cell_type": "markdown",
   "metadata": {},
   "source": [
    "###### Operadores lógicos"
   ]
  },
  {
   "cell_type": "markdown",
   "metadata": {},
   "source": [
    "| Operador | Valor                   |\n",
    "|----------|-------------------------|\n",
    "| ==       | Comparación de igualdad |\n",
    "| !=       | Diferente a             |\n",
    "| >        | Mayor que               |\n",
    "| <        | Menor que               |\n",
    "| >=       | Mayor igual que         |\n",
    "| <=       | Menor igual que         |\n",
    "| and      | y                       |\n",
    "| or       | o                       |\n",
    "| not      | no                      |\n",
    "| is       | es / esta               |"
   ]
  },
  {
   "cell_type": "code",
   "execution_count": null,
   "metadata": {},
   "outputs": [],
   "source": [
    "a = [1, 2, 3]\n",
    "\n",
    "x = y = 3\n",
    "\n",
    "x is y"
   ]
  },
  {
   "cell_type": "markdown",
   "metadata": {},
   "source": [
    "**Las palabras claves más importantes de Python son:**\n",
    "\n",
    "\n",
    "|       |          |        |        |     |\n",
    "|-------|----------|--------|--------|-----|\n",
    "| False | True     | and    | or     | not |\n",
    "| break | continue | class  | def    | if  |\n",
    "| elif  | else     | for    | while  | in  |\n",
    "| is    | None     | lambda | return |  pass   |"
   ]
  },
  {
   "cell_type": "markdown",
   "metadata": {},
   "source": [
    "**Los operadores de asignación aumentada**\n",
    "\n",
    "\n",
    "| Operación | Equivalencia |\n",
    "|-----------|--------------|\n",
    "| a = a + 1 | a += 1       |\n",
    "| a = a - 1 | a -= 1       |\n",
    "| a = a * 1 | a *= 1       |\n",
    "| a = a / 1 | a /= 1       |\n",
    "| a = a % 1 | a %= 1       |"
   ]
  },
  {
   "cell_type": "code",
   "execution_count": null,
   "metadata": {},
   "outputs": [],
   "source": [
    "False == ( 1 > 2 )"
   ]
  },
  {
   "cell_type": "code",
   "execution_count": null,
   "metadata": {},
   "outputs": [],
   "source": [
    "True == ( 2 > 1 )"
   ]
  },
  {
   "cell_type": "code",
   "execution_count": null,
   "metadata": {},
   "outputs": [],
   "source": [
    "3 > 3"
   ]
  },
  {
   "cell_type": "code",
   "execution_count": null,
   "metadata": {},
   "outputs": [],
   "source": [
    "x, y = True , False\n",
    "\n",
    "(x or y) == True"
   ]
  },
  {
   "cell_type": "code",
   "execution_count": null,
   "metadata": {},
   "outputs": [],
   "source": [
    "(x and y) == False"
   ]
  },
  {
   "cell_type": "code",
   "execution_count": null,
   "metadata": {},
   "outputs": [],
   "source": [
    "( not y) == True"
   ]
  },
  {
   "cell_type": "code",
   "execution_count": null,
   "metadata": {},
   "outputs": [],
   "source": [
    "if x is not True:\n",
    "    print('Hola')"
   ]
  },
  {
   "cell_type": "code",
   "execution_count": null,
   "metadata": {},
   "outputs": [],
   "source": [
    "y = x = 3\n",
    "x is y"
   ]
  },
  {
   "cell_type": "code",
   "execution_count": null,
   "metadata": {},
   "outputs": [],
   "source": [
    "[ 3 ] is [ 3 ]"
   ]
  },
  {
   "cell_type": "code",
   "execution_count": null,
   "metadata": {},
   "outputs": [],
   "source": [
    "1 < 2 < 3"
   ]
  },
  {
   "cell_type": "code",
   "execution_count": null,
   "metadata": {},
   "outputs": [],
   "source": [
    "1 < 2 and 2 < 3"
   ]
  },
  {
   "cell_type": "code",
   "execution_count": null,
   "metadata": {},
   "outputs": [],
   "source": [
    "1 < 3 > 2"
   ]
  },
  {
   "cell_type": "code",
   "execution_count": null,
   "metadata": {},
   "outputs": [],
   "source": [
    "1==2 or 2<3"
   ]
  },
  {
   "cell_type": "markdown",
   "metadata": {},
   "source": [
    "###### Ciclo While"
   ]
  },
  {
   "cell_type": "markdown",
   "metadata": {},
   "source": [
    "*Sintaxis*\n",
    "\n",
    "        while alguna_condicion_booleana:\n",
    "            #código\n",
    "        \n",
    "\n",
    "        while alguna_condicion_booleana:\n",
    "            #código\n",
    "        else:\n",
    "            #código"
   ]
  },
  {
   "cell_type": "code",
   "execution_count": null,
   "metadata": {},
   "outputs": [],
   "source": [
    "x = 0\n",
    "\n",
    "while x < 5:\n",
    "    print('El valor actual de x es: {}'.format(x))\n",
    "    x += 1"
   ]
  },
  {
   "cell_type": "code",
   "execution_count": null,
   "metadata": {},
   "outputs": [],
   "source": [
    "#break, continue\n",
    "\n",
    "x = 0\n",
    "\n",
    "while x < 5:\n",
    "    if x == 3:\n",
    "        break\n",
    "    print('hola')\n",
    "    x += 1\n",
    "print('Sali del ciclo')"
   ]
  },
  {
   "cell_type": "code",
   "execution_count": null,
   "metadata": {},
   "outputs": [],
   "source": [
    "a = [1, 2, 3]\n",
    "i = 0\n",
    "\n",
    "while i < len(a):\n",
    "    if a[i] == 2:\n",
    "        i += 1\n",
    "        continue\n",
    "    else:\n",
    "        print('hola')\n",
    "        i += 1"
   ]
  },
  {
   "cell_type": "code",
   "execution_count": null,
   "metadata": {},
   "outputs": [],
   "source": [
    "a = [1, 2, 3]\n",
    "\n",
    "for i in a:\n",
    "    if i == 2:\n",
    "        print('Salte')\n",
    "        continue\n",
    "    else:\n",
    "        print('hola')"
   ]
  },
  {
   "cell_type": "code",
   "execution_count": 1,
   "metadata": {},
   "outputs": [
    {
     "name": "stdout",
     "output_type": "stream",
     "text": [
      "Ingresa tu usuario: Selene\n",
      "usuario verificado\n",
      "Ingresa tu clave de acceso: pupu\n",
      "Ingresa tu clave de acceso: tamarindo6\n",
      "Clave correcta\n"
     ]
    }
   ],
   "source": [
    "while True:\n",
    "    nombre = input('Ingresa tu usuario: ')\n",
    "    \n",
    "    if nombre == 'Selene':\n",
    "        print('usuario verificado \\n')\n",
    "        a = 1\n",
    "    else:\n",
    "        continue\n",
    "    \n",
    "    while a == 1:\n",
    "        clave = input('Ingresa tu clave de acceso: ')\n",
    "        if clave == 'tamarindo6':\n",
    "            print('Clave correcta')\n",
    "            break\n",
    "        else:\n",
    "            continue\n",
    "    break"
   ]
  },
  {
   "cell_type": "code",
   "execution_count": 4,
   "metadata": {},
   "outputs": [],
   "source": [
    "for i in range(100):\n",
    "    #Tengo que hacer algo aqui\n",
    "    pass"
   ]
  },
  {
   "cell_type": "markdown",
   "metadata": {},
   "source": [
    "###### Operadores utiles"
   ]
  },
  {
   "cell_type": "code",
   "execution_count": 10,
   "metadata": {},
   "outputs": [
    {
     "name": "stdout",
     "output_type": "stream",
     "text": [
      "(0, 'S')\n",
      "(1, 'e')\n",
      "(2, 'l')\n",
      "(3, 'e')\n",
      "(4, 'n')\n",
      "(5, 'e')\n"
     ]
    }
   ],
   "source": [
    "palabra = 'Selene'\n",
    "\n",
    "for a in enumerate(palabra):\n",
    "    print(a)"
   ]
  },
  {
   "cell_type": "code",
   "execution_count": 11,
   "metadata": {},
   "outputs": [
    {
     "name": "stdout",
     "output_type": "stream",
     "text": [
      "(0, 1)\n",
      "(1, 2)\n",
      "(2, 3)\n"
     ]
    }
   ],
   "source": [
    "lista = [1, 2, 3]\n",
    "\n",
    "for a in enumerate(lista):\n",
    "    print(a)"
   ]
  },
  {
   "cell_type": "code",
   "execution_count": 13,
   "metadata": {},
   "outputs": [
    {
     "name": "stdout",
     "output_type": "stream",
     "text": [
      "(0, 1)\n",
      "(1, 2)\n"
     ]
    }
   ],
   "source": [
    "dicc = {'selene': 1, 'ronny': 2}\n",
    "\n",
    "for a in enumerate(dicc.values()):\n",
    "    print(a)"
   ]
  },
  {
   "cell_type": "code",
   "execution_count": 19,
   "metadata": {},
   "outputs": [
    {
     "data": {
      "text/plain": [
       "<zip at 0x222e1655648>"
      ]
     },
     "execution_count": 19,
     "metadata": {},
     "output_type": "execute_result"
    }
   ],
   "source": [
    "a = [1, 2, 3, 4]\n",
    "b = ['Jesus', 'Selene', 'Ronny', 'Engiber']\n",
    "\n",
    "zip(a, b)"
   ]
  },
  {
   "cell_type": "code",
   "execution_count": 20,
   "metadata": {},
   "outputs": [
    {
     "data": {
      "text/plain": [
       "[(1, 'Jesus'), (2, 'Selene'), (3, 'Ronny'), (4, 'Engiber')]"
      ]
     },
     "execution_count": 20,
     "metadata": {},
     "output_type": "execute_result"
    }
   ],
   "source": [
    "list(zip(a, b))"
   ]
  },
  {
   "cell_type": "code",
   "execution_count": 21,
   "metadata": {},
   "outputs": [
    {
     "data": {
      "text/plain": [
       "[('j', 'b'), ('e', 'e'), ('s', 'l'), ('u', 'l'), ('s', 'o')]"
      ]
     },
     "execution_count": 21,
     "metadata": {},
     "output_type": "execute_result"
    }
   ],
   "source": [
    "a = 'jesus es marico'\n",
    "b = 'bello'\n",
    "\n",
    "list(zip(a, b))"
   ]
  },
  {
   "cell_type": "code",
   "execution_count": 22,
   "metadata": {},
   "outputs": [
    {
     "name": "stdout",
     "output_type": "stream",
     "text": [
      "('j', 'b')\n",
      "('e', 'e')\n",
      "('s', 'l')\n",
      "('u', 'l')\n",
      "('s', 'o')\n"
     ]
    }
   ],
   "source": [
    "for a in zip(a, b):\n",
    "    print(a)"
   ]
  },
  {
   "cell_type": "code",
   "execution_count": 23,
   "metadata": {},
   "outputs": [
    {
     "data": {
      "text/plain": [
       "tuple"
      ]
     },
     "execution_count": 23,
     "metadata": {},
     "output_type": "execute_result"
    }
   ],
   "source": [
    "type(a)"
   ]
  },
  {
   "cell_type": "code",
   "execution_count": 25,
   "metadata": {},
   "outputs": [
    {
     "data": {
      "text/plain": [
       "True"
      ]
     },
     "execution_count": 25,
     "metadata": {},
     "output_type": "execute_result"
    }
   ],
   "source": [
    "d = {'hola': 345}\n",
    "\n",
    "345 in d.values()"
   ]
  },
  {
   "cell_type": "code",
   "execution_count": 28,
   "metadata": {},
   "outputs": [
    {
     "data": {
      "text/plain": [
       "'evelio'"
      ]
     },
     "execution_count": 28,
     "metadata": {},
     "output_type": "execute_result"
    }
   ],
   "source": [
    "lista = ['selene', 'ronny', 'evelio']\n",
    "\n",
    "min(lista)"
   ]
  },
  {
   "cell_type": "code",
   "execution_count": 29,
   "metadata": {},
   "outputs": [
    {
     "data": {
      "text/plain": [
       "'selene'"
      ]
     },
     "execution_count": 29,
     "metadata": {},
     "output_type": "execute_result"
    }
   ],
   "source": [
    "max(lista)"
   ]
  },
  {
   "cell_type": "code",
   "execution_count": 42,
   "metadata": {},
   "outputs": [],
   "source": [
    "from random import shuffle as sh\n",
    "sh(lista)"
   ]
  },
  {
   "cell_type": "code",
   "execution_count": 43,
   "metadata": {},
   "outputs": [
    {
     "data": {
      "text/plain": [
       "['selene', 'ronny', 'evelio']"
      ]
     },
     "execution_count": 43,
     "metadata": {},
     "output_type": "execute_result"
    }
   ],
   "source": [
    "lista"
   ]
  },
  {
   "cell_type": "code",
   "execution_count": 49,
   "metadata": {},
   "outputs": [
    {
     "data": {
      "text/plain": [
       "20"
      ]
     },
     "execution_count": 49,
     "metadata": {},
     "output_type": "execute_result"
    }
   ],
   "source": [
    "from random import randint\n",
    "randint(0, 79)"
   ]
  },
  {
   "cell_type": "markdown",
   "metadata": {},
   "source": [
    "###### List Comprehensions (Lista de comprensiones)"
   ]
  },
  {
   "cell_type": "code",
   "execution_count": 50,
   "metadata": {},
   "outputs": [
    {
     "data": {
      "text/plain": [
       "['s', 'e', 'l', 'e', 'n', 'e']"
      ]
     },
     "execution_count": 50,
     "metadata": {},
     "output_type": "execute_result"
    }
   ],
   "source": [
    "lista = []\n",
    "\n",
    "for letra in 'selene':\n",
    "    lista.append(letra)\n",
    "    \n",
    "lista"
   ]
  },
  {
   "cell_type": "code",
   "execution_count": 51,
   "metadata": {},
   "outputs": [
    {
     "data": {
      "text/plain": [
       "['s', 'e', 'l', 'e', 'n', 'e']"
      ]
     },
     "execution_count": 51,
     "metadata": {},
     "output_type": "execute_result"
    }
   ],
   "source": [
    "lista1 = [letra for letra in 'selene']\n",
    "lista1"
   ]
  },
  {
   "cell_type": "code",
   "execution_count": 53,
   "metadata": {},
   "outputs": [
    {
     "data": {
      "text/plain": [
       "[0, 1, 2, 3, 4, 5, 6, 7, 8, 9, 10, 11, 12, 13, 14, 15, 16, 17, 18, 19, 20]"
      ]
     },
     "execution_count": 53,
     "metadata": {},
     "output_type": "execute_result"
    }
   ],
   "source": [
    "listax = []\n",
    "\n",
    "for num in range(21):\n",
    "    listax.append(num)\n",
    "listax"
   ]
  },
  {
   "cell_type": "code",
   "execution_count": 54,
   "metadata": {},
   "outputs": [
    {
     "data": {
      "text/plain": [
       "[0, 1, 2, 3, 4, 5, 6, 7, 8, 9, 10, 11, 12, 13, 14, 15, 16, 17, 18, 19, 20]"
      ]
     },
     "execution_count": 54,
     "metadata": {},
     "output_type": "execute_result"
    }
   ],
   "source": [
    "listaxxx = [num for num in range(21)]\n",
    "listaxxx"
   ]
  },
  {
   "cell_type": "code",
   "execution_count": null,
   "metadata": {},
   "outputs": [],
   "source": []
  },
  {
   "cell_type": "code",
   "execution_count": 55,
   "metadata": {},
   "outputs": [
    {
     "data": {
      "text/plain": [
       "[0, 1, 2, 3, 4, 5, 6, 7, 8, 9, 10, 11, 12, 13, 14, 15, 16, 17, 18, 19]"
      ]
     },
     "execution_count": 55,
     "metadata": {},
     "output_type": "execute_result"
    }
   ],
   "source": [
    "lista2 = [num for num in range(20)]\n",
    "lista2"
   ]
  },
  {
   "cell_type": "code",
   "execution_count": 58,
   "metadata": {},
   "outputs": [
    {
     "data": {
      "text/plain": [
       "[0,\n",
       " 'impar',\n",
       " 2,\n",
       " 'impar',\n",
       " 4,\n",
       " 'impar',\n",
       " 6,\n",
       " 'impar',\n",
       " 8,\n",
       " 'impar',\n",
       " 10,\n",
       " 'impar',\n",
       " 12,\n",
       " 'impar',\n",
       " 14,\n",
       " 'impar',\n",
       " 16,\n",
       " 'impar',\n",
       " 18,\n",
       " 'impar',\n",
       " 20]"
      ]
     },
     "execution_count": 58,
     "metadata": {},
     "output_type": "execute_result"
    }
   ],
   "source": [
    "lista3 = [num if num % 2 == 0 else 'impar' for num in range(21)]\n",
    "lista3"
   ]
  },
  {
   "cell_type": "code",
   "execution_count": 59,
   "metadata": {},
   "outputs": [
    {
     "data": {
      "text/plain": [
       "[10, 12, 14, 15, 18, 21, 20, 24, 28]"
      ]
     },
     "execution_count": 59,
     "metadata": {},
     "output_type": "execute_result"
    }
   ],
   "source": [
    "lista = []\n",
    "\n",
    "for x in [2, 3, 4]:\n",
    "    for y in [5, 6, 7]:\n",
    "        lista.append(x*y)\n",
    "\n",
    "lista"
   ]
  },
  {
   "cell_type": "code",
   "execution_count": 61,
   "metadata": {},
   "outputs": [
    {
     "data": {
      "text/plain": [
       "[10, 12, 14, 15, 18, 21, 20, 24, 28]"
      ]
     },
     "execution_count": 61,
     "metadata": {},
     "output_type": "execute_result"
    }
   ],
   "source": [
    "lista = [x*y for x in [2, 3, 4] for y in [5, 6, 7]]\n",
    "lista"
   ]
  },
  {
   "cell_type": "markdown",
   "metadata": {},
   "source": [
    "###### Crea una lista de la primera letra de cada palabra en esta frase usando una lista de compresiones"
   ]
  },
  {
   "cell_type": "code",
   "execution_count": 65,
   "metadata": {},
   "outputs": [
    {
     "data": {
      "text/plain": [
       "['C',\n",
       " 'u',\n",
       " 'l',\n",
       " 'd',\n",
       " 'l',\n",
       " 'p',\n",
       " 'l',\n",
       " 'd',\n",
       " 'c',\n",
       " 'p',\n",
       " 'e',\n",
       " 'e',\n",
       " 'f',\n",
       " 'u',\n",
       " 'u',\n",
       " 'l',\n",
       " 'd',\n",
       " 'c']"
      ]
     },
     "execution_count": 65,
     "metadata": {},
     "output_type": "execute_result"
    }
   ],
   "source": [
    "frase = 'Crea una lista de la primera letra de cada palabra en esta frase usando una lista de compresiones'\n",
    "\n",
    "fra1 = [h for letra in frase.split() for h in letra[0]]\n",
    "fra1"
   ]
  },
  {
   "cell_type": "markdown",
   "metadata": {},
   "source": [
    "# Funciones"
   ]
  },
  {
   "cell_type": "markdown",
   "metadata": {},
   "source": [
    "*Sintaxis*\n",
    "\n",
    "        def nombre_de_la_funcion(variables):\n",
    "            #Código\n",
    "            return Salida_de_la_funcion"
   ]
  },
  {
   "cell_type": "code",
   "execution_count": 76,
   "metadata": {},
   "outputs": [],
   "source": [
    "def nombre():\n",
    "    '''\n",
    "    nombre: Funcion que va imprimir un saludo\n",
    "    input: nada\n",
    "    output: un saludo (hello world)\n",
    "    '''\n",
    "    print('Hello World')"
   ]
  },
  {
   "cell_type": "code",
   "execution_count": 74,
   "metadata": {},
   "outputs": [
    {
     "name": "stdout",
     "output_type": "stream",
     "text": [
      "Hello World\n"
     ]
    }
   ],
   "source": [
    "nombre()"
   ]
  },
  {
   "cell_type": "code",
   "execution_count": 77,
   "metadata": {},
   "outputs": [
    {
     "name": "stdout",
     "output_type": "stream",
     "text": [
      "Help on function nombre in module __main__:\n",
      "\n",
      "nombre()\n",
      "    nombre: Funcion que va imprimir un saludo\n",
      "    input: nada\n",
      "    output: un saludo (hello world)\n",
      "\n"
     ]
    }
   ],
   "source": [
    "help(nombre)"
   ]
  },
  {
   "cell_type": "code",
   "execution_count": 88,
   "metadata": {},
   "outputs": [],
   "source": [
    "def suma(n1, n2, n3 = 0):\n",
    "    '''\n",
    "    suma: suma de numeros\n",
    "    n1: numero 1\n",
    "    n2: numero 2\n",
    "    n3: numero 3 (por default vale cero)\n",
    "    salida: suma de n1 con n2 y n3\n",
    "    '''\n",
    "    return n1 + n2 + n3"
   ]
  },
  {
   "cell_type": "code",
   "execution_count": 89,
   "metadata": {},
   "outputs": [
    {
     "data": {
      "text/plain": [
       "10"
      ]
     },
     "execution_count": 89,
     "metadata": {},
     "output_type": "execute_result"
    }
   ],
   "source": [
    "suma(1, 6, 3)"
   ]
  },
  {
   "cell_type": "code",
   "execution_count": 91,
   "metadata": {},
   "outputs": [
    {
     "name": "stdout",
     "output_type": "stream",
     "text": [
      "Help on function suma in module __main__:\n",
      "\n",
      "suma(n1, n2, n3=0)\n",
      "    suma: suma de numeros\n",
      "    n1: numero 1\n",
      "    n2: numero 2\n",
      "    n3: numero 3 (por default vale cero)\n",
      "    salida: suma de n1 con n2 y n3\n",
      "\n"
     ]
    }
   ],
   "source": [
    "help(suma)"
   ]
  },
  {
   "cell_type": "code",
   "execution_count": 93,
   "metadata": {},
   "outputs": [],
   "source": [
    "def usuario_clave():\n",
    "    \n",
    "    while True:\n",
    "        nombre = input('Ingresa tu usuario: ')\n",
    "\n",
    "        if nombre == 'Selene':\n",
    "            print('usuario verificado \\n')\n",
    "            a = 1\n",
    "        else:\n",
    "            continue\n",
    "\n",
    "        while a == 1:\n",
    "            clave = input('Ingresa tu clave de acceso: ')\n",
    "            if clave == 'tamarindo6':\n",
    "                print('Clave correcta')\n",
    "                break\n",
    "            else:\n",
    "                continue\n",
    "        break"
   ]
  },
  {
   "cell_type": "code",
   "execution_count": 94,
   "metadata": {},
   "outputs": [
    {
     "name": "stdout",
     "output_type": "stream",
     "text": [
      "Ingresa tu usuario: Selene\n",
      "usuario verificado \n",
      "\n",
      "Ingresa tu clave de acceso: pupu\n",
      "Ingresa tu clave de acceso: tamarindo6\n",
      "Clave correcta\n"
     ]
    }
   ],
   "source": [
    "usuario_clave()"
   ]
  },
  {
   "cell_type": "code",
   "execution_count": null,
   "metadata": {},
   "outputs": [],
   "source": []
  }
 ],
 "metadata": {
  "kernelspec": {
   "display_name": "Python 3.7.6 64-bit ('base': conda)",
   "language": "python",
   "name": "python37664bitbaseconda98ca14121cdc43659f2fa06db092cb77"
  },
  "language_info": {
   "codemirror_mode": {
    "name": "ipython",
    "version": 3
   },
   "file_extension": ".py",
   "mimetype": "text/x-python",
   "name": "python",
   "nbconvert_exporter": "python",
   "pygments_lexer": "ipython3",
   "version": "3.7.6"
  },
  "toc": {
   "base_numbering": 1,
   "nav_menu": {},
   "number_sections": true,
   "sideBar": true,
   "skip_h1_title": false,
   "title_cell": "Table of Contents",
   "title_sidebar": "Contents",
   "toc_cell": false,
   "toc_position": {},
   "toc_section_display": true,
   "toc_window_display": false
  }
 },
 "nbformat": 4,
 "nbformat_minor": 4
}
