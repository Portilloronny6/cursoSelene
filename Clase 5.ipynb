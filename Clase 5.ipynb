{
 "cells": [
  {
   "cell_type": "markdown",
   "metadata": {},
   "source": [
    "# Clase 5"
   ]
  },
  {
   "cell_type": "markdown",
   "metadata": {},
   "source": [
    "Imagina que acabas de montar un restaurante vegetariano y necesitas meseros y camareras para que atiendan a tu clientela. Cuando se presentan los candidatos a los cargos antes mencionados, necesitas recavar información acerca de ellos, como por ejemplo:\n",
    "\n",
    "|                    |      Mesero 1     |      Mesero 2     |     Mesero 3     |\n",
    "|--------------------|:-----------------:|:-----------------:|:----------------:|\n",
    "|             Nombre |       Ronny       |       Evelio      |       Jesus      |\n",
    "|               Edad |         26        |         24        |        26        |\n",
    "|            Idiomas | [Español, Ingles] | [Frances, Aleman] | [Coreano, Chino] |\n",
    "| Experiencia (años) |         2         |         3         |         4        |\n",
    "| Permiso de trabajo |        True       |       False       |       True       |\n",
    "\n",
    "Así mismo para las camareras:\n",
    "\n",
    "|                    |     Camarera 1    |     Camarera 2    |    Camarera 3    |\n",
    "|--------------------|:-----------------:|:-----------------:|:----------------:|\n",
    "|             Nombre |       Nancy       |       Maria       |      Carmen      |\n",
    "|               Edad |         21        |         24        |        31        |\n",
    "|            Idiomas | [Español, Ingles] | [Frances, Aleman] | [Coreano, Chino] |\n",
    "| Experiencia (años) |         1         |         0         |         5        |\n",
    "| Permiso de trabajo |        True       |       False       |       True       |\n",
    "\n",
    "Toda esa información debes almacenarlas en una base de datos usando Python, para ello una solución seria usar los métodos tradicionales de asignación de variables."
   ]
  },
  {
   "cell_type": "code",
   "execution_count": 1,
   "metadata": {},
   "outputs": [],
   "source": [
    "# Mesero 1\n",
    "mesero1Nombre = 'Ronny'\n",
    "mesero1Edad = 26\n",
    "mesero1Idiomas = ['Español', 'Ingles']\n",
    "mesero1Exp = 2\n",
    "mesero1Perm = True\n",
    "\n",
    "# Mesero 2\n",
    "mesero2Nombre = 'Evelio'\n",
    "mesero2Edad = 24\n",
    "mesero2Idiomas = ['Frances', 'Aleman']\n",
    "mesero2Exp = 2\n",
    "mesero2Perm = False\n",
    "\n",
    "# Mesero 3\n",
    "mesero3Nombre = 'Jesus'\n",
    "mesero3Edad = 26\n",
    "mesero3Idiomas = ['Coreano', 'Chino']\n",
    "mesero3Exp = 2\n",
    "mesero3Perm = True"
   ]
  },
  {
   "cell_type": "markdown",
   "metadata": {},
   "source": [
    "O también usando alguna función que facilite el proceso:"
   ]
  },
  {
   "cell_type": "code",
   "execution_count": 2,
   "metadata": {},
   "outputs": [],
   "source": [
    "def camarera(nombre, edad, idiomas, exp, perm):\n",
    "    return nombre, edad, idiomas, exp, perm\n",
    "\n",
    "camarera1 = camarera('Nancy', 21, ['Español', 'Ingles'], 1, True)\n",
    "camarera2 = camarera('Maria', 24, ['Frances', 'Aleman'], 0, False)\n",
    "camarera3 = camarera('Carmen', 31, ['Coreano', 'Chino'], 5, True)"
   ]
  },
  {
   "cell_type": "code",
   "execution_count": 3,
   "metadata": {},
   "outputs": [
    {
     "data": {
      "text/plain": [
       "('Nancy', 21, ['Español', 'Ingles'], 1, True)"
      ]
     },
     "execution_count": 3,
     "metadata": {},
     "output_type": "execute_result"
    }
   ],
   "source": [
    "camarera1"
   ]
  },
  {
   "cell_type": "code",
   "execution_count": 4,
   "metadata": {},
   "outputs": [
    {
     "data": {
      "text/plain": [
       "('Maria', 24, ['Frances', 'Aleman'], 0, False)"
      ]
     },
     "execution_count": 4,
     "metadata": {},
     "output_type": "execute_result"
    }
   ],
   "source": [
    "camarera2"
   ]
  },
  {
   "cell_type": "code",
   "execution_count": 5,
   "metadata": {},
   "outputs": [
    {
     "data": {
      "text/plain": [
       "('Carmen', 31, ['Coreano', 'Chino'], 5, True)"
      ]
     },
     "execution_count": 5,
     "metadata": {},
     "output_type": "execute_result"
    }
   ],
   "source": [
    "camarera3"
   ]
  },
  {
   "cell_type": "code",
   "execution_count": 6,
   "metadata": {},
   "outputs": [
    {
     "data": {
      "text/plain": [
       "tuple"
      ]
     },
     "execution_count": 6,
     "metadata": {},
     "output_type": "execute_result"
    }
   ],
   "source": [
    "type(camarera1)"
   ]
  },
  {
   "cell_type": "markdown",
   "metadata": {},
   "source": [
    "##### Programación Orientada a Objetos (POO) o (OOP, por sus siglas en inglés)"
   ]
  },
  {
   "cell_type": "markdown",
   "metadata": {},
   "source": [
    "Sin embargo, a medida que tu equipo de trabajo vaya aumentando, también lo hará la base de datos y en consecuencia, las lineas de código. Ahora, ninguna de las maneras anteriores es práctica debido a que ni asignando variables ni creando una función es útil para almacenar la información.\n",
    "\n",
    "El método de la función quizá pueda parecer factible pero a la hora de expotar la variable *camarera1* o cualquier otra hacia la base de datos, es probable que ocurran errores de compatibilidad porque lo que se estaría exportando es una tupla de información muy grande. Al final nos rendiriamos y terminariamos usando excel :'v."
   ]
  },
  {
   "cell_type": "markdown",
   "metadata": {},
   "source": [
    "Pero no todo esta perdido, gracias a los lenguajes que son orientados a objetos, y al Python ser uno, nos brinda herramientas que a priori pueden parecer confusas pero que al entenderlas nos ayudaran mucho. Estas herramientas son las **Clases.**"
   ]
  },
  {
   "cell_type": "markdown",
   "metadata": {},
   "source": [
    "*La Programación Orientada a Objetos* hace referencia a que TODO es un objeto, todo lo que existe es un objeto, pero para ser algún objeto, tienes que tener características y atributos propios de un objeto en particular. por ejemplo:\n",
    "\n",
    "¿Qué hace que una casa sea una casa? \n",
    "\n",
    "¿Qué hace que un edificio sea un edificio? o \n",
    "\n",
    "¿Cuál es la diferencia entre un carro y una camioneta? \n",
    "\n",
    "\n",
    "Ese es el tipo de preguntas que se generan al ver los elementos como un objeto y se responden al definirlos a partir de sus atributos.\n",
    "\n",
    "\n",
    "la POO le permite al programador crear sus propios objetos, atribudos y métodos. En general, **la POO permite crear código que sea reproducible y organizado.**\n",
    "\n",
    "La base de la POO son las **clases** que nos ayudarán a crear los objetos. En palabras simples, las clases son una plantilla que nos van a permitir definir objetos a partir de sus atributos y métodos.\n",
    "\n",
    "##### Poo\n",
    "\n",
    "\n",
    "- Clases\n",
    "- Objetos\n",
    "- Propiedades (atributos)\n",
    "- Métodos"
   ]
  },
  {
   "cell_type": "markdown",
   "metadata": {},
   "source": [
    "Sintaxis:\n",
    "\n",
    "            class NombredelaClase():\n",
    "                \n",
    "                #Constructor\n",
    "                def __init__(self, param1, param2):\n",
    "                    self.param1 = param1\n",
    "                    self.param2 = param2\n",
    "                \n",
    "                #Metodo\n",
    "                def algun_metodo(self):\n",
    "                    #Código\n",
    "                    return self.param1\n",
    "\n"
   ]
  },
  {
   "cell_type": "code",
   "execution_count": 7,
   "metadata": {},
   "outputs": [],
   "source": [
    "# De esta manera creamos una clase, que básicamente es una plantilla que me permitira \n",
    "# crear un objeto según sus propiedades y métodos."
   ]
  },
  {
   "cell_type": "code",
   "execution_count": 8,
   "metadata": {},
   "outputs": [],
   "source": [
    "class Mesero:\n",
    "    pass"
   ]
  },
  {
   "cell_type": "code",
   "execution_count": 9,
   "metadata": {},
   "outputs": [],
   "source": [
    "# Para comenzar asignarle atributos a nuestro objeto Mesero(), debemos crear con una instancia, \n",
    "# para ello se emplea la función __init__() o mejor conocido como CONSTRUCTOR."
   ]
  },
  {
   "cell_type": "code",
   "execution_count": 10,
   "metadata": {},
   "outputs": [],
   "source": [
    "# Creamos la clase\n",
    "class Mesero():\n",
    "    \n",
    "    # Creamos la instancia con el constructor.\n",
    "    def __init__():\n",
    "        pass"
   ]
  },
  {
   "cell_type": "code",
   "execution_count": 11,
   "metadata": {},
   "outputs": [],
   "source": [
    "# Ahora debemos inicializar la instancia que acabamos de crear, para ello utilizamos el parametro self\n",
    "# este parametro nos permitira inicializar cualquier instancia que hayamos creado. Siempre tiene que \n",
    "# usarse para instancias o métodos."
   ]
  },
  {
   "cell_type": "code",
   "execution_count": 12,
   "metadata": {},
   "outputs": [],
   "source": [
    "# Creamos la clase\n",
    "class Mesero():\n",
    "    \n",
    "    # Creamos la instancia con el constructor.\n",
    "    def __init__(self): # <--- al incluir el parametro self estamos inicializando el constructor.\n",
    "        pass"
   ]
  },
  {
   "cell_type": "markdown",
   "metadata": {},
   "source": [
    "A partir de este punto ya hemos avanzado bastante en la creación del objeto Mesero(). Recapitulemos:\n",
    "\n",
    "1. Creamos la clase **Mesero()**. Recordemos que una clase es una plantilla del objeto que queremos crear, en este caso un perro.\n",
    "\n",
    "\n",
    "2. Creamos la instancia para definir nuestro objeto y comenzar a darle atributos con el constructor **init()**.\n",
    "\n",
    "\n",
    "3. Inicializamos la instancia antes creada con el parametro **self**. Este parametro siempre se debe incluir en cualquier instancia o método (NO OLVIDAR)."
   ]
  },
  {
   "cell_type": "markdown",
   "metadata": {},
   "source": [
    "Terminemos de crear el objeto Mesero y Camarera para luego seguir con la explicación:"
   ]
  },
  {
   "cell_type": "code",
   "execution_count": 13,
   "metadata": {},
   "outputs": [],
   "source": [
    "class Mesero():\n",
    "    \n",
    "    # Constructor inicializador\n",
    "    def __init__(self, nombre, edad, idiomas, exp, perm):\n",
    "        \n",
    "        self.nombre = nombre\n",
    "        self.edad = edad\n",
    "        self.idiomas = idiomas\n",
    "        self.exp = exp\n",
    "        self.perm = perm\n",
    "    \n",
    "    # Metodos\n",
    "    def presentacion(self):\n",
    "        print('Mi nombre es: ' + self.nombre)"
   ]
  },
  {
   "cell_type": "code",
   "execution_count": 14,
   "metadata": {},
   "outputs": [],
   "source": [
    "mesero1 = Mesero('Ronny', 26, ['Español', 'Ingles'], 2, True)"
   ]
  },
  {
   "cell_type": "code",
   "execution_count": 15,
   "metadata": {},
   "outputs": [
    {
     "data": {
      "text/plain": [
       "__main__.Mesero"
      ]
     },
     "execution_count": 15,
     "metadata": {},
     "output_type": "execute_result"
    }
   ],
   "source": [
    "type(mesero1)"
   ]
  },
  {
   "cell_type": "code",
   "execution_count": 16,
   "metadata": {},
   "outputs": [
    {
     "data": {
      "text/plain": [
       "<__main__.Mesero at 0x29704a1ec08>"
      ]
     },
     "execution_count": 16,
     "metadata": {},
     "output_type": "execute_result"
    }
   ],
   "source": [
    "mesero1"
   ]
  },
  {
   "cell_type": "code",
   "execution_count": 17,
   "metadata": {},
   "outputs": [
    {
     "data": {
      "text/plain": [
       "26"
      ]
     },
     "execution_count": 17,
     "metadata": {},
     "output_type": "execute_result"
    }
   ],
   "source": [
    "mesero1.edad"
   ]
  },
  {
   "cell_type": "code",
   "execution_count": 18,
   "metadata": {},
   "outputs": [
    {
     "data": {
      "text/plain": [
       "'Ronny'"
      ]
     },
     "execution_count": 18,
     "metadata": {},
     "output_type": "execute_result"
    }
   ],
   "source": [
    "mesero1.nombre"
   ]
  },
  {
   "cell_type": "code",
   "execution_count": 19,
   "metadata": {},
   "outputs": [
    {
     "data": {
      "text/plain": [
       "2"
      ]
     },
     "execution_count": 19,
     "metadata": {},
     "output_type": "execute_result"
    }
   ],
   "source": [
    "mesero1.exp"
   ]
  },
  {
   "cell_type": "code",
   "execution_count": 20,
   "metadata": {},
   "outputs": [
    {
     "data": {
      "text/plain": [
       "True"
      ]
     },
     "execution_count": 20,
     "metadata": {},
     "output_type": "execute_result"
    }
   ],
   "source": [
    "mesero1.perm"
   ]
  },
  {
   "cell_type": "code",
   "execution_count": 21,
   "metadata": {},
   "outputs": [
    {
     "name": "stdout",
     "output_type": "stream",
     "text": [
      "Mi nombre es: Ronny\n"
     ]
    }
   ],
   "source": [
    "mesero1.presentacion()"
   ]
  },
  {
   "cell_type": "markdown",
   "metadata": {},
   "source": [
    "De esta manera hemos creado el objeto mesero a partir de la clase Mesero() la cual es una plantilla que nos permite definir al objeto en cuestión a partir de sus atributos y métodos.\n",
    "\n",
    "Cada vez que llegue un nuevo empleado se le debe asignar a una nueva variable la clase Mesero() y definirlo en función a sus propiedades.\n",
    "\n",
    "De manera analoga podriamos crear una clase para el objeto Camarera()."
   ]
  }
 ],
 "metadata": {
  "kernelspec": {
   "display_name": "Python 3.7.6 64-bit ('base': conda)",
   "language": "python",
   "name": "python37664bitbaseconda98ca14121cdc43659f2fa06db092cb77"
  },
  "language_info": {
   "codemirror_mode": {
    "name": "ipython",
    "version": 3
   },
   "file_extension": ".py",
   "mimetype": "text/x-python",
   "name": "python",
   "nbconvert_exporter": "python",
   "pygments_lexer": "ipython3",
   "version": "3.7.6"
  },
  "toc": {
   "base_numbering": 1,
   "nav_menu": {},
   "number_sections": true,
   "sideBar": true,
   "skip_h1_title": false,
   "title_cell": "Table of Contents",
   "title_sidebar": "Contents",
   "toc_cell": false,
   "toc_position": {},
   "toc_section_display": true,
   "toc_window_display": false
  }
 },
 "nbformat": 4,
 "nbformat_minor": 4
}
