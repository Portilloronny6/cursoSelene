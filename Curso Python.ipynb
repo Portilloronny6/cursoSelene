{
 "cells": [
  {
   "cell_type": "markdown",
   "metadata": {},
   "source": [
    "# Curso Python - Ronny Portillo"
   ]
  },
  {
   "cell_type": "markdown",
   "metadata": {},
   "source": [
    "### Instalación\n",
    "\n",
    "- Anaconda\n",
    "- IDE (Spyder, Jupyter)\n",
    "- Editor (Sublime, ATOM, VSC)\n",
    "- Chequear versión de Python en CMD."
   ]
  },
  {
   "cell_type": "markdown",
   "metadata": {},
   "source": [
    "### Familiarización\n",
    "\n",
    "*Editor*\n",
    "1. Soporta múltiples lenguajes y tecnologias.\n",
    "2. Enfocado en archivos.\n",
    "3. Puedes agregar plugins para darle el poder de un IDE (configuración a mano).\n",
    "\n",
    "*IDE*\n",
    "1. Se especializa en un lenguaje o tecnologia (Java, Python, Go, Android, etc).\n",
    "2. Enfocado en proyectos completos. Desde la primera línea hasta la salida a producción.\n",
    "3. Trae herramientas integradas y configuradas."
   ]
  },
  {
   "cell_type": "markdown",
   "metadata": {},
   "source": [
    "### Variables y tipos de datos simples."
   ]
  },
  {
   "cell_type": "markdown",
   "metadata": {},
   "source": [
    "1. Imprimir mensajes.\n",
    "2. Reglas para nombrar variables.\n",
    "    - Solo pueden incluir letras, numeros y guión bajo.\n",
    "    - Pueden comenzar con una letra o con un guión bajo pero no con un número.\n",
    "    - mensaje_1 (yeeeii!!) / 1_mensaje (wrong)\n",
    "    - No están permitidos los espacios.\n",
    "    - Evitar usar palabras restringidas por Python.\n",
    "3. Errores."
   ]
  },
  {
   "cell_type": "code",
   "execution_count": 2,
   "metadata": {
    "scrolled": true
   },
   "outputs": [
    {
     "ename": "NameError",
     "evalue": "name 'mesage' is not defined",
     "output_type": "error",
     "traceback": [
      "\u001b[1;31m---------------------------------------------------------------------------\u001b[0m",
      "\u001b[1;31mNameError\u001b[0m                                 Traceback (most recent call last)",
      "\u001b[1;32m<ipython-input-2-9e57b222db8c>\u001b[0m in \u001b[0;36m<module>\u001b[1;34m\u001b[0m\n\u001b[0;32m      1\u001b[0m \u001b[0mmessage\u001b[0m \u001b[1;33m=\u001b[0m \u001b[1;34m'Hola Selene'\u001b[0m\u001b[1;33m\u001b[0m\u001b[1;33m\u001b[0m\u001b[0m\n\u001b[1;32m----> 2\u001b[1;33m \u001b[0mprint\u001b[0m\u001b[1;33m(\u001b[0m\u001b[0mmesage\u001b[0m\u001b[1;33m)\u001b[0m\u001b[1;33m\u001b[0m\u001b[1;33m\u001b[0m\u001b[0m\n\u001b[0m",
      "\u001b[1;31mNameError\u001b[0m: name 'mesage' is not defined"
     ]
    }
   ],
   "source": [
    "message = 'Hola Selene'\n",
    "print(mesage)"
   ]
  },
  {
   "cell_type": "markdown",
   "metadata": {},
   "source": [
    "4. Tipos de variables\n",
    "    - Integers (int) ---------------> Numeros enteros. **3 /  3000 /  50000**\n",
    "    - Floating points (float) ------> Numeros con decimales. **2.3  /  4.6  /  100.0**\n",
    "    - Strings (str) ----------------> Secuencia _ordenada_ de caracteres. **\"hola\"   'Selene'   \"性格\"**\n",
    "    - Lists (list) -----------------> Secuencia _ordenada_ de objetos. **[10, \"hello\", 200.3]**\n",
    "    - Dictionaries (dict) ----------> Etiqueta *:* Valor. **{\"Selene\" : \"Valor\", \"name\" : \"Ronny\"}**\n",
    "    - Tuples (tup) -----------------> Secuencia ordenada e inmutable (no se puede modificar) de objetos. **(10, \"hello\", 200.3)**\n",
    "    - Sets (set) -------------------> Colección no ordenada de elementos **únicos**. **{\"a\", \"b\"}**\n",
    "    - Booleans (bool) --------------> Valor lógico indicador de **True** o **False**"
   ]
  },
  {
   "cell_type": "markdown",
   "metadata": {},
   "source": [
    "5. Operadores aritméticos\n",
    "    - Suma (+)\n",
    "    - Resta (-)\n",
    "    - Multiplicacion (*)\n",
    "    - Division (/)\n",
    "    - Modulo (%)"
   ]
  },
  {
   "cell_type": "markdown",
   "metadata": {},
   "source": [
    "6. Strings\n",
    "\n",
    "\"Esto es un string.\"\n",
    "'Esto tambien es un string.'\n",
    "\n",
    "Python tiene la flexibilidad de permitir usar comillas o apostrofes como string.\n",
    "\n",
    "'Le dije a Selene que viniera temprano, pero me dijo \"Espera que termine con mi abuela!\" '"
   ]
  },
  {
   "cell_type": "code",
   "execution_count": 6,
   "metadata": {},
   "outputs": [
    {
     "name": "stdout",
     "output_type": "stream",
     "text": [
      "Le dije a Selene que viniera temprano, pero me dijo \"Espera que termine con mi abuela!\" \n"
     ]
    }
   ],
   "source": [
    "print('Le dije a Selene que viniera temprano, pero me dijo \"Espera que termine con mi abuela!\" ')"
   ]
  },
  {
   "cell_type": "code",
   "execution_count": 7,
   "metadata": {},
   "outputs": [
    {
     "name": "stdout",
     "output_type": "stream",
     "text": [
      "Selene Forja\n"
     ]
    }
   ],
   "source": [
    "name = \"selene forja\"\n",
    "print(name.title())"
   ]
  },
  {
   "cell_type": "markdown",
   "metadata": {},
   "source": [
    "Los **_métodos_** son una acción que Python puede desarrollar sobre una variable o dato. El punto (.) antes de la variable _name_ en _name.title()_ le indica a Python que lleve acabo el metodo title() sobre la variable name.\n",
    "\n",
    "Cada método esta seguido por un parentesis porque usualmente los metodos necesitaran informacion adicional para llevar acabo su trabajo. La información se proveé dentro de los parentésis. El método _title_ no necesita información adicional, es por esa razón que los parentesis se quedan vacios."
   ]
  },
  {
   "cell_type": "code",
   "execution_count": 8,
   "metadata": {},
   "outputs": [
    {
     "name": "stdout",
     "output_type": "stream",
     "text": [
      "Selene Forja\n",
      "SELENE FORJA\n",
      "selene forja\n"
     ]
    }
   ],
   "source": [
    "name = 'Selene Forja'\n",
    "\n",
    "print(name)\n",
    "print(name.upper())\n",
    "print(name.lower())"
   ]
  },
  {
   "cell_type": "markdown",
   "metadata": {},
   "source": [
    "El método .lower() es particularmente útil para almacenar datos de usuarios."
   ]
  },
  {
   "cell_type": "markdown",
   "metadata": {},
   "source": [
    "##### Variables con strings"
   ]
  },
  {
   "cell_type": "code",
   "execution_count": 11,
   "metadata": {},
   "outputs": [
    {
     "name": "stdout",
     "output_type": "stream",
     "text": [
      "Selene Forja\n"
     ]
    }
   ],
   "source": [
    "first_name = 'Selene'\n",
    "last_name = 'Forja'\n",
    "full_name = f\"{first_name} {last_name}\"\n",
    "print(full_name)"
   ]
  },
  {
   "cell_type": "code",
   "execution_count": 12,
   "metadata": {},
   "outputs": [
    {
     "name": "stdout",
     "output_type": "stream",
     "text": [
      "Hello, Selene Forja!\n"
     ]
    }
   ],
   "source": [
    "print(f\"Hello, {full_name.title()}!\")"
   ]
  },
  {
   "cell_type": "code",
   "execution_count": 15,
   "metadata": {},
   "outputs": [
    {
     "name": "stdout",
     "output_type": "stream",
     "text": [
      "Hello, Selene Forja!\n"
     ]
    }
   ],
   "source": [
    "message = f'Hello, {full_name.title()}!'\n",
    "print(message)"
   ]
  },
  {
   "cell_type": "markdown",
   "metadata": {},
   "source": [
    "Las f-strings fueron introducidos a partir de python 3.6. Si usas Python 3.5 o inferiores, necesitaras usar el metodo format() en vez de f-syntax.\n",
    "\n",
    "**full_name = \"{} {}\".format(first_name, last_name)**"
   ]
  }
 ],
 "metadata": {
  "kernelspec": {
   "display_name": "Python 3",
   "language": "python",
   "name": "python3"
  },
  "language_info": {
   "codemirror_mode": {
    "name": "ipython",
    "version": 3
   },
   "file_extension": ".py",
   "mimetype": "text/x-python",
   "name": "python",
   "nbconvert_exporter": "python",
   "pygments_lexer": "ipython3",
   "version": "3.7.6"
  },
  "toc": {
   "base_numbering": 1,
   "nav_menu": {},
   "number_sections": true,
   "sideBar": true,
   "skip_h1_title": false,
   "title_cell": "Table of Contents",
   "title_sidebar": "Contents",
   "toc_cell": false,
   "toc_position": {},
   "toc_section_display": true,
   "toc_window_display": false
  }
 },
 "nbformat": 4,
 "nbformat_minor": 2
}
