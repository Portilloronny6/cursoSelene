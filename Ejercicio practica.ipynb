{
 "cells": [
  {
   "cell_type": "markdown",
   "metadata": {},
   "source": [
    "# La Criba de Eratóstenes"
   ]
  },
  {
   "cell_type": "markdown",
   "metadata": {},
   "source": [
    "El tamiz de Eratóstenes es una técnica que se desarrolló hace más de 2.000 años para encontrar fácilmente todos los números primos entre 2 y algún límite, digamos 100. A continuación se presenta una descripción del algoritmo:\n",
    "\n",
    "\n",
    "Anote todos los números del 0 al límite (100 para este ejemplo). Tache 0 y 1 porque no son primos. Establezca un parámetro p igual a 2. Resaltamos el número 2 como el primer primo. Mientras p es menor que el límite, tachamos todos los múltiplos de 2 (es decir, tachamos 4, 6, 8, etc.).\n",
    "\n",
    "Ahora, **Establezca p igual a el siguiente número en la lista que no está tachado en la tabla**, en este caso el número 3, resaltamos el número 3 como primo y tachamos todos los múltiplos de 3 (es decir tachamos 6, 9, 12, etc.). El siguiente número no tachado en la tabla es el 5, resaltamos el número 5 como primo y tachamos todos los múltiplos de 5 (es decir tachamos 10, 15, 20, etc.). Lo hacemos también con el 7 y tachamos todos sus múltiplos hasta el 100.\n",
    "\n",
    "Informe todos los números que no han sido tachados como primos.\n",
    "\n",
    "La clave de este algoritmo es que es relativamente fácil tachar cada enésimo número en una hoja de papel. Esta también es una tarea fácil para una computadora: un bucle for puede simular este comportamiento cuando se proporciona un tercer parámetro a la función de rango. Cuando se tacha un número, sabemos que ya no es primo, pero aún ocupa espacio en la hoja de papel y aún debe tenerse en cuenta al calcular números primos posteriores. Como resultado, no debe simular tachar un número eliminándolo de la lista. En su lugar, debe simular tachar un número reemplazándolo por 0. Luego, una vez que se complete el algoritmo, todos los valores distintos de cero en la lista son primos.\n",
    "\n",
    "\n",
    "![alt text](http://www.juntadeandalucia.es/averroes/centros-tic/18601059/helvia/aula/archivos/repositorio/250/354/html/Plan%204-6-09/criba-eratostenes-200.gif)\n",
    "\n",
    "Cree un programa Python que use este algoritmo para mostrar todos los números primos entre 2 y un límite ingresado por el usuario. Si implementa el algoritmo correctamente, debería poder mostrar todos los números primos menores a 1.000.000 en unos segundos."
   ]
  }
 ],
 "metadata": {
  "kernelspec": {
   "display_name": "Python 3.7.6 64-bit ('base': conda)",
   "language": "python",
   "name": "python37664bitbaseconda98ca14121cdc43659f2fa06db092cb77"
  },
  "language_info": {
   "codemirror_mode": {
    "name": "ipython",
    "version": 3
   },
   "file_extension": ".py",
   "mimetype": "text/x-python",
   "name": "python",
   "nbconvert_exporter": "python",
   "pygments_lexer": "ipython3",
   "version": "3.7.6"
  },
  "toc": {
   "base_numbering": 1,
   "nav_menu": {},
   "number_sections": true,
   "sideBar": true,
   "skip_h1_title": false,
   "title_cell": "Table of Contents",
   "title_sidebar": "Contents",
   "toc_cell": false,
   "toc_position": {},
   "toc_section_display": true,
   "toc_window_display": false
  }
 },
 "nbformat": 4,
 "nbformat_minor": 4
}
