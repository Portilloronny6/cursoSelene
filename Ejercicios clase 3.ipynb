{
 "cells": [
  {
   "cell_type": "markdown",
   "metadata": {},
   "source": [
    "# Tarea 3"
   ]
  },
  {
   "cell_type": "markdown",
   "metadata": {},
   "source": [
    "**1.** La Sucesión de Fibonacci tiene la siguiente estructura:\n",
    "\n",
    "###### **0, 1, 1, 2, 3, 5, 8, 13, 21, 34, 55, 89, ...**\n",
    "\n",
    "Es decir, la sucesión comienza con los terminos 0 y 1 y cada termino nuevo se obtiene como la sumatoria de los dos elementos anteriores a él.\n",
    "\n",
    "Sabiendo esto, crea una función que determine la sucesión de Fibonacci que contenga **n** elementos dado por el usuario.\n",
    "\n",
    "Finalmente, imprime el siguiente resultados.\n",
    "\n",
    "X[-1] == X[-2] + X[-3]\n",
    "\n",
    "siendo X el nombre de la función que creaste."
   ]
  },
  {
   "cell_type": "markdown",
   "metadata": {},
   "source": [
    "**2.** Un anagrama es una palabra o frase que resulta de la transposición de letras de otra palabra o frase. Dicho de otra forma, una **palabra es anagrama de otra si las dos tienen las mismas letras, con el mismo número de apariciones, pero en un orden diferente.**\n",
    "\n",
    "\n",
    "Escribe un programa en Python que sea capaz de determinar si dos palabras dadas por el usuario son o no anagramas entre sí.\n",
    "\n",
    "\n",
    "**Ejemplos de anagramas:** \n",
    "\n",
    "\n",
    "Mary / Army\n",
    "\n",
    "\n",
    "Nacionalista / Altisonancia\n",
    "\n",
    "\n",
    "Amor / Roma\n",
    "\n",
    "_**Posible ayuda:** Dos diccionarios son igual **si y solo si** ambos diccionarios tienen las mismas etiquetas (keys) y para cada etiqueta, k, el valor asociado a esa etiqueta k, es el mismo en ambos diccionarios._"
   ]
  },
  {
   "cell_type": "markdown",
   "metadata": {},
   "source": [
    "**3.** Un número perfecto es un entero positivo que es igual a la suma de sus divisores propios positivos. Así, 6 es un número perfecto porque sus divisores propios son 1, 2 y 3; y 6 = 1 + 2 + 3. Los siguientes números perfectos son 28, 496 y 8128.\n",
    "\n",
    "Escriba una función que determine si un entero positivo es o no perfecto. Su función tomará un parámetro, si ese parámetro es un número perfecto, su función devolverá **True**. De lo contrario, devolverá **False**. Además, escriba un programa principal que use su función para identificar y mostrar todos los números perfectos entre 1 y 10.000."
   ]
  },
  {
   "cell_type": "markdown",
   "metadata": {},
   "source": [
    "**4.** Determina si un numero ingresado por el usuario es primo."
   ]
  },
  {
   "cell_type": "markdown",
   "metadata": {},
   "source": [
    "**5.** Escribe una función que determina si una contraseña es buena o no. Definiremos una buena contraseña como aquella que tenga una longitud de al menos 8 caracteres, contenga al menos una letra mayúscula, al menos una letra minúscula y al menos un número. Su función debe devolver **True** si la contraseña es buena. De lo contrario, debería devolver **False**. Incluya un programa principal que lea una contraseña del usuario e informe si es buena o no."
   ]
  },
  {
   "cell_type": "code",
   "execution_count": null,
   "metadata": {},
   "outputs": [],
   "source": []
  }
 ],
 "metadata": {
  "kernelspec": {
   "display_name": "Python 3.7.6 64-bit ('base': conda)",
   "language": "python",
   "name": "python37664bitbaseconda98ca14121cdc43659f2fa06db092cb77"
  },
  "language_info": {
   "codemirror_mode": {
    "name": "ipython",
    "version": 3
   },
   "file_extension": ".py",
   "mimetype": "text/x-python",
   "name": "python",
   "nbconvert_exporter": "python",
   "pygments_lexer": "ipython3",
   "version": "3.7.6"
  },
  "toc": {
   "base_numbering": 1,
   "nav_menu": {},
   "number_sections": true,
   "sideBar": true,
   "skip_h1_title": false,
   "title_cell": "Table of Contents",
   "title_sidebar": "Contents",
   "toc_cell": false,
   "toc_position": {},
   "toc_section_display": true,
   "toc_window_display": false
  }
 },
 "nbformat": 4,
 "nbformat_minor": 4
}
