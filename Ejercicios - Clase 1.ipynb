{
 "cells": [
  {
   "cell_type": "markdown",
   "metadata": {},
   "source": [
    "# Ejercicios Clase 1"
   ]
  },
  {
   "cell_type": "markdown",
   "metadata": {},
   "source": [
    "## Numeros"
   ]
  },
  {
   "cell_type": "code",
   "execution_count": 1,
   "metadata": {},
   "outputs": [],
   "source": [
    "# Realiza una operación de suma entre dos variables.\n",
    "\n"
   ]
  },
  {
   "cell_type": "code",
   "execution_count": 2,
   "metadata": {},
   "outputs": [],
   "source": [
    "# Realiza una operación de resta entre dos variables.\n",
    "\n"
   ]
  },
  {
   "cell_type": "code",
   "execution_count": 3,
   "metadata": {},
   "outputs": [],
   "source": [
    "# Realiza una operación de multiplicación entre dos variables.\n",
    "\n"
   ]
  },
  {
   "cell_type": "code",
   "execution_count": null,
   "metadata": {},
   "outputs": [],
   "source": [
    "# Realiza una operación de división entre dos variables.\n",
    "\n"
   ]
  },
  {
   "cell_type": "code",
   "execution_count": 4,
   "metadata": {},
   "outputs": [],
   "source": [
    "# Realiza una operación de modulo entre dos variables.\n",
    "\n"
   ]
  },
  {
   "cell_type": "code",
   "execution_count": 5,
   "metadata": {},
   "outputs": [],
   "source": [
    "# Realiza una operación de potenciación entre dos variables.\n",
    "\n",
    "\n",
    "# hint : **"
   ]
  },
  {
   "cell_type": "code",
   "execution_count": 6,
   "metadata": {},
   "outputs": [],
   "source": [
    "# Realiza una operación de divisón entera entre dos variables.\n",
    "\n",
    "\n",
    "# hint : //"
   ]
  },
  {
   "cell_type": "markdown",
   "metadata": {},
   "source": [
    "**Las variables pueden ser númericas y de tipo string ;). Inténtalo.**"
   ]
  },
  {
   "cell_type": "markdown",
   "metadata": {},
   "source": [
    "### Dada las siguientes ecuaciones y datos:"
   ]
  },
  {
   "cell_type": "markdown",
   "metadata": {},
   "source": [
    "<img src=\"https://2.bp.blogspot.com/-o4rhHxD3B38/UzxX5NjvOdI/AAAAAAAABbA/caC82dPvIiY/s1600/Sin+t%C3%ADtulo.png\">"
   ]
  },
  {
   "cell_type": "markdown",
   "metadata": {},
   "source": [
    "- R: 8.31 KJ/Kmol·K **(solo para la ecuacion de a y b)**\n",
    "- R: 296.78 **(solo para la ecuación de P)**\n",
    "- Tc: 126 K\n",
    "- Pc: 3.39x10^6 * 0.028^2 Pa·Kg^2/Kmol^2 **(solo para a)**\n",
    "- Pc: 3.39x10^6 * 0.028   Pa·Kg/Kmol **(solo para b)**"
   ]
  },
  {
   "cell_type": "markdown",
   "metadata": {},
   "source": [
    "###### Calcule el valor de la presión de un tanque de nitrogeno a 175 Kelvin de temperatura sabiendo que el volumen específico es de 0.00375 m3/Kg"
   ]
  },
  {
   "cell_type": "code",
   "execution_count": 8,
   "metadata": {},
   "outputs": [],
   "source": [
    "# Resolución\n",
    "\n",
    "\n",
    "\n",
    "\n",
    "\n",
    "\n",
    "\n",
    "# Respuesta: 8.8 MPa"
   ]
  },
  {
   "cell_type": "markdown",
   "metadata": {},
   "source": [
    "# Strings"
   ]
  },
  {
   "cell_type": "markdown",
   "metadata": {},
   "source": [
    "1. Crea una variable que incluya el siguiente mensaje 'Hola Mundo'.  \n",
    "\n",
    "\n",
    "2. Selecciona el 4to, 7mo, y 8vo elemento de la variable y guarda el resultado en tres variables diferentes. Por último, en otra variable, guarda los elementos del 0 al 5. \n",
    "\n",
    "**Hint: [start:step:stop].**\n",
    "\n",
    "\n",
    "3. Luego modifica la variable creada en 1. concatenando tu nombre al lado de la palabra. (Usa todos los modos posibles para concatenar).  \n",
    "\n",
    "\n",
    "4. Convierte la variable de 3. en todo mayúsculas.  \n",
    "\n",
    "\n",
    "5. Convierte la variable de 3. en todo minúsculas.  \n",
    "\n",
    "\n",
    "6. Empleando algún método (función del tipo de variable), aún no visto en clases, crea una lista de todas las palabras que conforman la cadena de carácteres.  \n",
    "\n",
    "\n",
    "7. Sabiendo que el formato de impresión **_.format_** se usa de la siguiente manera:  \n",
    "\n",
    "\n",
    "'Insert another string with curly brackets: {}'.format('The inserted string')  \n",
    "\n",
    "\n",
    "Imprime la variable de 7. utilizando dicho formato. Así mismo, empleando el formato f-string y las concatenaciones típicas. \n",
    "\n",
    "**ayuda**\n",
    "\n",
    "player = 'Thomas'\n",
    "\n",
    "\n",
    "points = 33\n",
    "\n",
    "'Last night, '+player+' scored '+str(points)+' points.'  # concatenation\n",
    "\n",
    "f'Last night, {player} scored {points} points.'          # f-string"
   ]
  },
  {
   "cell_type": "markdown",
   "metadata": {},
   "source": [
    "# Lists"
   ]
  },
  {
   "cell_type": "markdown",
   "metadata": {},
   "source": [
    "Empleando la siguiente variable:\n",
    "\n",
    "\n",
    "**my_list = ['one','two','three',4,5]**\n",
    "\n",
    "\n",
    "Realice las siguientes peticiones:"
   ]
  },
  {
   "cell_type": "code",
   "execution_count": 19,
   "metadata": {},
   "outputs": [],
   "source": [
    "# Toma el primer elemento.\n",
    "\n"
   ]
  },
  {
   "cell_type": "code",
   "execution_count": 20,
   "metadata": {},
   "outputs": [],
   "source": [
    "# A partir del segundo elemento, toma toda la lista.\n",
    "\n"
   ]
  },
  {
   "cell_type": "code",
   "execution_count": 21,
   "metadata": {},
   "outputs": [],
   "source": [
    "# Toma todos los elementos hasta el tercero.\n",
    "\n"
   ]
  },
  {
   "cell_type": "code",
   "execution_count": 22,
   "metadata": {},
   "outputs": [],
   "source": [
    "# Concatena y reasigna un elemento nuevo a la lista.\n",
    "\n"
   ]
  }
 ],
 "metadata": {
  "kernelspec": {
   "display_name": "Python 3.7.6 64-bit ('base': conda)",
   "language": "python",
   "name": "python37664bitbaseconda98ca14121cdc43659f2fa06db092cb77"
  },
  "language_info": {
   "codemirror_mode": {
    "name": "ipython",
    "version": 3
   },
   "file_extension": ".py",
   "mimetype": "text/x-python",
   "name": "python",
   "nbconvert_exporter": "python",
   "pygments_lexer": "ipython3",
   "version": "3.7.6"
  },
  "toc": {
   "base_numbering": 1,
   "nav_menu": {},
   "number_sections": true,
   "sideBar": true,
   "skip_h1_title": false,
   "title_cell": "Table of Contents",
   "title_sidebar": "Contents",
   "toc_cell": false,
   "toc_position": {},
   "toc_section_display": true,
   "toc_window_display": false
  }
 },
 "nbformat": 4,
 "nbformat_minor": 4
}
