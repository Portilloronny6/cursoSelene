{
 "cells": [
  {
   "cell_type": "markdown",
   "metadata": {},
   "source": [
    "# Tarea 2"
   ]
  },
  {
   "cell_type": "markdown",
   "metadata": {},
   "source": [
    "**1. Crea un diccionario para un jugador de __beisbol__ de las grandes ligas que contenga los siguientes elementos:**\n",
    "    \n",
    "| Etiqueta  | Valor              |\n",
    "|-----------|--------------------|\n",
    "| Jugador   | Nombre del jugador | \n",
    "| Equipo    | Equipo del jugador | \n",
    "| Edad      | Edad del jugador   |\n",
    "\n",
    "Luego de haber creado el diccionario, agregale los dos nuevos elementos:\n",
    "\n",
    "| Etiqueta   | Valor                                |\n",
    "|------------|--------------------------------------|\n",
    "| Posición   | Posición que cubre el jugador        |\n",
    "| Average    | Promedio de bateo (num entre 0 y 1)  |"
   ]
  },
  {
   "cell_type": "markdown",
   "metadata": {},
   "source": [
    "**2. Crea un diccionario que contenga las siguientes etiquetas:**\n",
    "    \n",
    "| Etiqueta | Lista de Valores|\n",
    "|----------|-----------------|\n",
    "| Selene   | Python, Ruby    |\n",
    "| Ronny    | C               | \n",
    "| Evelio   | Go, JavaScript  |\n",
    "| Alexis   | Dart, Pascal    |\n",
    "\n",
    "_Posteriormente, empleando un ciclo for, obten el siguiente resultado:_\n",
    "\n",
    "Selene's favorite languages are:\n",
    "\n",
    "    Python\n",
    "    Ruby\n",
    "\n",
    "\n",
    "\n",
    "Ronny's favorite languages are:\n",
    "\n",
    "    C\n",
    "\n",
    "\n",
    "\n",
    "Evelio's favorite languages are:\n",
    "\n",
    "    Go\n",
    "    JavaScript\n",
    "\n",
    "\n",
    "Alexis's favorite languages are:\n",
    "\n",
    "    Dart\n",
    "    Pascal"
   ]
  },
  {
   "cell_type": "markdown",
   "metadata": {},
   "source": [
    "**3. Crea un diccionario que tenga la siguiente estructura:**\n",
    "\n",
    "\n",
    "| Etiqueta | Diccionario de valores                               |\n",
    "|----------|------------------------------------------------------|\n",
    "| Aeinstein| First: Albert / Last: Einstein / Location: Princeton |\n",
    "| Mcurie   | First: Marie / Last: Curie / Location: Paris         |\n",
    "\n",
    "\n",
    "_Finalmente, que tu salida tenga la siguiente visualización:_\n",
    "\n",
    "Username: Aeinstein\n",
    "\n",
    "    Full name: Albert Einstein\n",
    "    Location: Princeton\n",
    "\n",
    "\n",
    "Username: Mcurie\n",
    "\n",
    "    Full name: Marie Curie\n",
    "    Location: Paris"
   ]
  },
  {
   "cell_type": "markdown",
   "metadata": {},
   "source": [
    "**4. Puedes ordenar un diccionario? Si o no? por qué?**\n",
    "\n",
    "\n",
    "**5. Del siguiente diccionario**\n",
    "    \n",
    "    d = {'k1':[{'nest_key':['this is deep',['hello']]}]}\n",
    "\n",
    "    Obten la palabra 'Hello' y guardala en una variable.\n",
    "    \n",
    "    \n",
    "**6. Del siguiente diccionario**\n",
    "    \n",
    "    d = {'k1':[1,2,{'k2':['this is tricky',{'tough':[1,2,['hello']]}]}]}\n",
    "\n",
    "    Obten la palabra 'Hello' y guardala en una variable."
   ]
  },
  {
   "cell_type": "markdown",
   "metadata": {},
   "source": [
    "**7. Empleando la siguiente variable:**\n",
    "\n",
    "    st = 'Print only the words that start with s in this sentence'\n",
    "\n",
    "usa el ciclo for, el método .split() y el condicional if para obtener solo las palabras que comienzan con s.\n",
    "\n",
    "**8. Empleando la función _range()_, imprime todos los numeros pares que hay del 0 al 20.**\n",
    "\n",
    "\n",
    "**9. Empleando la siguiente variable:**\n",
    "\n",
    "    st = 'Print every word in this sentence that has an even number of letters'\n",
    "    \n",
    "Imprime la palabra _**par**_ para aquellas palabras cuya longitud sea par.\n",
    "\n",
    "_hint: word <-- par!_\n",
    "\n",
    "\n",
    "**10. Escribe un programa que imprima los números del 1 al 100. Aquellos números que sean múltiplos de 3 el programa deberá sustituir el número por la palabra \"Fizz\". Para aquellos que sean multiplos de 5, deberá imprimir la palabra \"Buzz\". Para aquellos números que sean multiplos de 3 y de 5 que imprima \"FizzBuzz\".**"
   ]
  },
  {
   "cell_type": "code",
   "execution_count": null,
   "metadata": {},
   "outputs": [],
   "source": []
  }
 ],
 "metadata": {
  "kernelspec": {
   "display_name": "Python 3.7.6 64-bit ('base': conda)",
   "language": "python",
   "name": "python37664bitbaseconda98ca14121cdc43659f2fa06db092cb77"
  },
  "language_info": {
   "codemirror_mode": {
    "name": "ipython",
    "version": 3
   },
   "file_extension": ".py",
   "mimetype": "text/x-python",
   "name": "python",
   "nbconvert_exporter": "python",
   "pygments_lexer": "ipython3",
   "version": "3.7.6"
  },
  "toc": {
   "base_numbering": 1,
   "nav_menu": {},
   "number_sections": true,
   "sideBar": true,
   "skip_h1_title": false,
   "title_cell": "Table of Contents",
   "title_sidebar": "Contents",
   "toc_cell": false,
   "toc_position": {},
   "toc_section_display": true,
   "toc_window_display": false
  }
 },
 "nbformat": 4,
 "nbformat_minor": 4
}
