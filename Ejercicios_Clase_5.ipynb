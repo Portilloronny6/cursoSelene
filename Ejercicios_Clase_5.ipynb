{
  "nbformat": 4,
  "nbformat_minor": 0,
  "metadata": {
    "colab": {
      "name": "Ejercicios - Clase 5.ipynb",
      "provenance": [],
      "collapsed_sections": [],
      "authorship_tag": "ABX9TyPjz75D2xh8XObY5e1ySNSm",
      "include_colab_link": true
    },
    "kernelspec": {
      "name": "python3",
      "display_name": "Python 3"
    }
  },
  "cells": [
    {
      "cell_type": "markdown",
      "metadata": {
        "id": "view-in-github",
        "colab_type": "text"
      },
      "source": [
        "<a href=\"https://colab.research.google.com/github/Portilloronny6/cursoSelene/blob/master/Ejercicios_Clase_5.ipynb\" target=\"_parent\"><img src=\"https://colab.research.google.com/assets/colab-badge.svg\" alt=\"Open In Colab\"/></a>"
      ]
    },
    {
      "cell_type": "markdown",
      "metadata": {
        "id": "xIM6o29meyLv",
        "colab_type": "text"
      },
      "source": [
        "# Ejercicio 1"
      ]
    },
    {
      "cell_type": "markdown",
      "metadata": {
        "id": "iBO97vMGYIYy",
        "colab_type": "text"
      },
      "source": [
        "Cree un objeto de **cuenta bancaria** que tenga:\n",
        "\n",
        "dos atributos:\n",
        "\n",
        "- *Propietario*\n",
        "- *Saldo disponible*\n",
        "\n",
        "y dos métodos:\n",
        "\n",
        "- *Depositar*\n",
        "- *Retirar*\n",
        "\n",
        "Como requisito adicional, ***los retiros no pueden exceder el saldo disponible.***\n",
        "\n",
        "Finalmente, haga uso de su clase, realiza varios depósitos y retiros, y pruebala para asegurarte de que la cuenta no se pueda sobregirar."
      ]
    },
    {
      "cell_type": "markdown",
      "metadata": {
        "id": "T_0MiesdexFn",
        "colab_type": "text"
      },
      "source": [
        "# Ejercicio 2"
      ]
    },
    {
      "cell_type": "markdown",
      "metadata": {
        "id": "Wn9IpG_ZgH6G",
        "colab_type": "text"
      },
      "source": [
        "\n",
        "Se le pide crear un programa en un EDITOR DE TEXTO usando Python que simule el comportamiento de un cuaderno de notas. Este cuaderno de notas debe ser como el siguiente:\n",
        "\n",
        "\n",
        "[Ver ejemplo](https://drive.google.com/file/d/1Xy1ySIlPttEDMtb1GhBQZV4jhUBj6xoT/view)\n",
        "\n",
        "\n",
        "---\n",
        "\n",
        "\n",
        "Al correr el programa el cuaderno debe estar en blanco. Se le debe brindrar al usuario la facilidad de:\n",
        "\n",
        "1. Mostrar todas las notas.\n",
        "2. Buscar notas. \n",
        "3. Agregar nota.    \n",
        "4. Modificar nota.\n",
        "5. Salir del programa.\n",
        "\n",
        "*Dependiendo de la opción escogida por el usuario se debe realizar la tarea en cuestión.*\n",
        "\n",
        "\n",
        "---\n",
        "\n",
        "\n",
        "**Cada nueva nota que se vaya almacenar en el cuaderno debe:**\n",
        "\n",
        "1. Tener un id que la identifique (único para cada nota)\n",
        "  * Nota1 --> id = 1.\n",
        "  * Nota2 --> id = 2 y asi sucesivamente.\n",
        "\n",
        "2. La fecha en la que se escribío la nota.\n",
        "\n",
        "3. Una etiqueta que facilite la consulta de la nota. Cuando se agregue una nota por primera vez la etiqueta deberá estar en blanco. Sin embargo, una vez que la nota se modifique, se debe cambiar la etiqueta para monitorear los cambios realizados.\n",
        "\n",
        "---"
      ]
    },
    {
      "cell_type": "markdown",
      "metadata": {
        "id": "06Gtgmlq2qnL",
        "colab_type": "text"
      },
      "source": [
        "# Pasos:"
      ]
    },
    {
      "cell_type": "markdown",
      "metadata": {
        "id": "iLZv7sq9e4VP",
        "colab_type": "text"
      },
      "source": [
        "## Objeto `Nota()`"
      ]
    },
    {
      "cell_type": "markdown",
      "metadata": {
        "id": "r_0ksyklpZEe",
        "colab_type": "text"
      },
      "source": [
        "1- Cree una clase `Notas().`\n",
        "\n",
        "\n",
        "2- Inicialice el constructor.\n",
        "\n",
        "\n",
        "3- Cree dos variables de instancia. Una para la nota que será escrita y otra para los cambios. Se recomienda inicializar la variable para los cambios como vacia.\n",
        "\n",
        "\n",
        "4- Cree otra variable de instancia para la fecha. Se recomienda usar la libreria `datetime` e importar el paquete `date` y emplear la función `today()`. \n",
        "\n",
        "\n",
        "5- Cree otra variable de instancia para el identificador de la nota. Este identificador debe ser único para cada nota y no debe reiniciarse a cero cada vez que se ejecute el programa. \n",
        "\n",
        "Para crear una variable que sea unica cada vez que se llame o ejecute la clase `Notas()` es necesario declararla como una variable global de nuestro programa.\n",
        "\n",
        "\n",
        "6- Cree un método de coincidencia. Este método servirá para determinar si una nota en específico coincide con el filtro de texto. La búsqueda distingue entre mayúsculas y minúsculas y deberá coincidir con el texto o con los cambios.\n",
        "\n",
        "\n",
        "\n",
        "---\n",
        "\n",
        "\n",
        "\n",
        "Ejemplo:\n",
        "\n",
        "Notas en el cuaderno:\n",
        "\n",
        "      1. Hoy amanecí feliz.\n",
        "          - Cambios: ~Vacío~\n",
        "      2. Hoy me acoste cansado.\n",
        "          - Cambios: ~Vacío~\n",
        "      3. Mañana tengo que ir al gimnasio.\n",
        "          - Cambios: ~Vacío~\n",
        "      4. El deporte es genial.\n",
        "          - Cambios: ~Vacío~\n",
        "\n",
        "Si se pasa la nota 1 por este método y el usuario ingresa la palabra \"Hoy\" el método deberá devolver `True`, de lo contrario devolverá `False`."
      ]
    },
    {
      "cell_type": "markdown",
      "metadata": {
        "id": "Vzwc3Fv7e9CO",
        "colab_type": "text"
      },
      "source": [
        "## Objeto `Cuaderno()`"
      ]
    },
    {
      "cell_type": "markdown",
      "metadata": {
        "id": "fHOUGKfCtoMl",
        "colab_type": "text"
      },
      "source": [
        "1. Cree una clase `Cuaderno()`.\n",
        "\n",
        "2. Inicialice el constructor. Este constructor debe contar con una sola variable de instancia en la cual se deberan almacenar las notas que se escriban en el cuaderno. Esta variable debe estar inicializada como una lista vacia.\n",
        "\n",
        "3. Cree un método para guardar todas las notas escritas en la variable de instancia del punto anterior. Este método deberá usar la clase Notas() que se creó anteriormente como salida de la función.\n",
        "\n",
        "4. Cree un método que localice una nota cuando el usuario brinde el identificar de la nota. Este método será solo de uso interno. Si no encuentra ninguna nota para el identificar especificado, aseguresé que la salida sea `None`.\n",
        "\n",
        "5. Cree un método que modifique la nota empleando el método del punto anterior. Para ello necesitará ingresar dos variables de instancia, el id y la nota. El id es necesario para emplear el método del punto 4. Este método deberá devolver `True` si se logra modificar la nota y en caso contrario, `False`.\n",
        "\n",
        "6. Cree un método que haga exactamente lo mismo que el punto anterior pero modificando las etiquetas.\n",
        "\n",
        "7. Cree un método que encuentre todas las notas que tenga una palabra o frase en ellas. Para ello deberá usar el método que creo en el **punto 6. de la clase `Notas()`**\n",
        "\n",
        "8. Guarde el el archivo .py"
      ]
    },
    {
      "cell_type": "markdown",
      "metadata": {
        "id": "5GiToHpHI2eg",
        "colab_type": "text"
      },
      "source": [
        "# Menú interactiva"
      ]
    },
    {
      "cell_type": "markdown",
      "metadata": {
        "id": "B8w-gv2pI9bQ",
        "colab_type": "text"
      },
      "source": [
        "1. Cree un nuevo documento .py e importe la clase `Cuaderno()`.\n",
        "\n",
        "2. Cree una clase `Menu()`.\n",
        "\n",
        "3. Cree el constructor. Utilice como variables de instancia la clase `Cuaderno()` que se importó previamente y las opciones del menú que se encuentran en el enunciado del problema. Estas variables NO las ingresa el usuario.\n",
        "\n",
        "4. Cree un método que imprima en un `print()` el menú interactivo para el usuario.\n",
        "\n",
        "5. Cree un método sea para mostrar todas las notas del cuaderno. El nombre de este método debe coincidir con el nombre de la opción que uso para las variables de instancia en el constructor. \n",
        "\n",
        "6. Cree un método para buscar todas las notas del cuaderno que coincidan con una cadena de caracter ingresada por el usuario. Para ello deberá solicitar el ingreso de la cadena de caracter y luego pasarla por el método de busqueda que creo en el punto 7. de la clase `Cuaderno()`.\n",
        "\n",
        "7. Cree un método para agregar una nota. Para ello deberá brindrarle al usuario la posibilidad de escribir una nota.\n",
        "\n",
        "8. Cree un método que le permita al usuario modificar una nota. Para ellos deberá solicitarle al usuario que ingrese el identificador de la nota que quiere modificar. Luego deberá permitirle modificar la nota y la etiqueta.\n",
        "\n",
        "9. Cree un método para salir del programa. Para ello haga uso de la libreria `sys` y use el metido `exit(0)`\n",
        "\n",
        "10. Cree un método que se llame `run()` y que su función sea ejecutar el programa, para ello deberá solicitarle al usuario que ingrese una opción entre las que se muestran en el menú desplegable. Deberá asegurarse que si el usuario ingresa un valor que no se encuentra en el menú, deberá indicarle que la opción no es válida.\n",
        "\n",
        "Finalmente, para terminar este documento .py, al final coloque la siguiente linea de código.\n",
        "\n",
        "```\n",
        "if __name__ == \"__main__\":\n",
        "    Menu().run\n",
        "```\n"
      ]
    }
  ]
}