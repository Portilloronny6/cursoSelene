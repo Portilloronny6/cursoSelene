{
  "nbformat": 4,
  "nbformat_minor": 0,
  "metadata": {
    "colab": {
      "name": "Ejercicios - Clase 5.ipynb",
      "provenance": [],
      "collapsed_sections": [],
      "authorship_tag": "ABX9TyOgJKvqqcXJ3+0yYIxtzh2t",
      "include_colab_link": true
    },
    "kernelspec": {
      "name": "python3",
      "display_name": "Python 3"
    }
  },
  "cells": [
    {
      "cell_type": "markdown",
      "metadata": {
        "id": "view-in-github",
        "colab_type": "text"
      },
      "source": [
        "<a href=\"https://colab.research.google.com/github/Portilloronny6/cursoSelene/blob/master/Ejercicios_Clase_5.ipynb\" target=\"_parent\"><img src=\"https://colab.research.google.com/assets/colab-badge.svg\" alt=\"Open In Colab\"/></a>"
      ]
    },
    {
      "cell_type": "markdown",
      "metadata": {
        "id": "xIM6o29meyLv",
        "colab_type": "text"
      },
      "source": [
        "# Ejercicio 1"
      ]
    },
    {
      "cell_type": "markdown",
      "metadata": {
        "id": "iBO97vMGYIYy",
        "colab_type": "text"
      },
      "source": [
        "Cree un objeto de **cuenta bancaria** que tenga:\n",
        "\n",
        "dos atributos:\n",
        "\n",
        "- *Propietario*\n",
        "- *Saldo disponible*\n",
        "\n",
        "y dos métodos:\n",
        "\n",
        "- *Depositar*\n",
        "- *Retirar*\n",
        "\n",
        "Como requisito adicional, ***los retiros no pueden exceder el saldo disponible.***\n",
        "\n",
        "Finalmente, haga uso de su clase, realiza varios depósitos y retiros, y pruebala para asegurarte de que la cuenta no se pueda sobregirar."
      ]
    },
    {
      "cell_type": "markdown",
      "metadata": {
        "id": "T_0MiesdexFn",
        "colab_type": "text"
      },
      "source": [
        "# Ejercicio 2"
      ]
    },
    {
      "cell_type": "markdown",
      "metadata": {
        "id": "Wn9IpG_ZgH6G",
        "colab_type": "text"
      },
      "source": [
        "\n",
        "Se le pide crear un programa en un EDITOR DE TEXTO usando Python que simule el comportamiento de un cuaderno de notas. Este cuaderno de notas debe ser como el siguiente:\n",
        "\n",
        "\n",
        "[Ver ejemplo](https://drive.google.com/file/d/1Xy1ySIlPttEDMtb1GhBQZV4jhUBj6xoT/view)\n",
        "\n",
        "\n",
        "---\n",
        "\n",
        "\n",
        "Al correr el programa el cuaderno debe estar en blanco. Se le debe brindrar al usuario la facilidad de:\n",
        "\n",
        "1. Mostrar todas las notas.\n",
        "2. Buscar notas. \n",
        "3. Agregar nota.    \n",
        "4. Modificar nota.\n",
        "5. Salir del programa.\n",
        "\n",
        "*Dependiendo de la opción escogida por el usuario se debe realizar la tarea en cuestión.*\n",
        "\n",
        "\n",
        "---\n",
        "\n",
        "\n",
        "**Cada nueva nota que se vaya almacenar en el cuaderno debe:**\n",
        "\n",
        "1. Tener un id que la identifique (único para cada nota)\n",
        "  * Nota1 --> id = 1.\n",
        "  * Nota2 --> id = 2 y asi sucesivamente.\n",
        "2. La fecha en la que se escribío la nota.\n",
        "3. Una etiqueta que facilite la consulta de la nota. Cuando se agregue una nota por primera vez la etiqueta deberá estar en blanco. Sin embargo, una vez que la nota se modifique, se debe cambiar la etiqueta para monitorear los cambios realizados.\n",
        "---"
      ]
    },
    {
      "cell_type": "markdown",
      "metadata": {
        "id": "06Gtgmlq2qnL",
        "colab_type": "text"
      },
      "source": [
        "# Ayudas"
      ]
    },
    {
      "cell_type": "markdown",
      "metadata": {
        "id": "b--_3tlR20Cb",
        "colab_type": "text"
      },
      "source": [
        "Un `objeto()` obvio que se puede crear es el de `Notas()`; otro obvio seria el objeto `Cuaderno()`."
      ]
    },
    {
      "cell_type": "code",
      "metadata": {
        "id": "LNFtDcei25c_",
        "colab_type": "code",
        "colab": {}
      },
      "source": [
        "class Notas():\n",
        "  \"\"\"Representa la plantilla para crear una nota en el cuaderno\"\"\"\n",
        "  pass\n",
        "\n",
        "class Cuaderno():\n",
        "  \"\"\"Representa la colección de notas que hay anotadas.\"\"\"\n",
        "  pass"
      ],
      "execution_count": 0,
      "outputs": []
    },
    {
      "cell_type": "markdown",
      "metadata": {
        "id": "OgYfmY-t3iSb",
        "colab_type": "text"
      },
      "source": [
        "Ahora, las etiquetas, la fecha y el identificador parecen ser propiedades de la nota.\n",
        "\n",
        "\n",
        "---\n",
        "\n",
        "El identificador será un id ***único*** de instancia para cada nota y servirá para que el usuario pueda emplearlo para ***buscar o modificar*** notas en el menú interactivo.\n",
        "\n",
        "\n",
        "---\n",
        "\n",
        "Para crear una variable que sea unica cada vez que se llame o ejecute la clase `Notas()` es necesario declararla como una variable global de nuestro programa. Para eso se realiza el siguiente codigo sencillo:\n",
        "\n",
        "`global nombre_de_variable`\n",
        "\n",
        "la palabra `global` es una palabra de python y le dice al lenguaje que esa variable es unica para el programa.\n",
        "\n",
        "Si no se hace lo anterior, cada vez que se llame o ejecute la clase `Notas()` se reiniciara desde cero el valor que hay almacenado en el identificador y no queremos eso, queremos que cada nota tenga un identificador único.\n",
        "\n",
        "\n",
        "---\n",
        "\n"
      ]
    },
    {
      "cell_type": "markdown",
      "metadata": {
        "id": "86fdvdrL8pbB",
        "colab_type": "text"
      },
      "source": [
        "Para facilitar la búsqueda de las notas, debemos poner un método de coincidencia en el objeto `Notas()`. Este método aceptará una *cadena de caracteres (OJO)* y deberá decirnos si una nota coincide con la cadena sin acceder directamente a los atributos."
      ]
    },
    {
      "cell_type": "code",
      "metadata": {
        "id": "TyHYxTeL5GRA",
        "colab_type": "code",
        "colab": {}
      },
      "source": [
        "class Notas():\n",
        "  \"\"\"Representa la plantilla para crear una nota en el cuaderno\"\"\"\n",
        "\n",
        "  def __init__(self):\n",
        "    pass\n",
        "  \n",
        "  def coincidencia(self):\n",
        "    pass\n",
        "\n",
        "class Cuaderno():\n",
        "  \"\"\"Representa la colección de notas que hay anotadas.\"\"\"\n",
        "  pass"
      ],
      "execution_count": 0,
      "outputs": []
    },
    {
      "cell_type": "markdown",
      "metadata": {
        "id": "prvWRC_v8H27",
        "colab_type": "text"
      },
      "source": [
        "El objeto `Cuaderno()` deberá tener una lista de notas como atributo. Adicionalmenta también necesitará:\n",
        "\n",
        "* Un método para crear una nota nueva.\n",
        "\n",
        "* Un método para modificar una nota.\n",
        "\n",
        "* Un método para modificar la etiqueta.\n",
        "\n",
        "* Un método de búsqueda que devuelva una lista de las notas que coincidieron con la cadena de caracteres *(condición)* ingresada por el usuario.\n",
        "\n",
        "---"
      ]
    },
    {
      "cell_type": "code",
      "metadata": {
        "id": "g8QvB00Z8IKB",
        "colab_type": "code",
        "colab": {}
      },
      "source": [
        "class Notas():\n",
        "  \"\"\"Representa la plantilla para crear una nota en el cuaderno\"\"\"\n",
        "\n",
        "  def __init__(self):\n",
        "    pass\n",
        "  \n",
        "  def coincidencia(self):\n",
        "    pass\n",
        "\n",
        "class Cuaderno():\n",
        "  \"\"\"Representa la colección de notas que hay anotadas.\"\"\"\n",
        "\n",
        "  def __init__(self):\n",
        "    pass\n",
        "  \n",
        "  def nueva_nota(self):\n",
        "    pass\n",
        "  \n",
        "  def modificar_nota(self):\n",
        "    pass\n",
        "\n",
        "  def modificar_etiq(self):\n",
        "    pass\n",
        "  \n",
        "  def buscar(self):\n",
        "    pass"
      ],
      "execution_count": 0,
      "outputs": []
    },
    {
      "cell_type": "markdown",
      "metadata": {
        "id": "I8xQWBer8_sn",
        "colab_type": "text"
      },
      "source": [
        "Pero, ¿cómo el usuario interactuara con estos objetos?\n",
        "\n",
        "Recordemos que este problema lo estamos resolviendo en un editor de texto, por lo tanto, estamos trabajando con archivos de extensión .py.\n",
        "\n",
        "Ahora bien, todo lo que se ha explicado hasta ahora deberá ir en un archivo .py.\n",
        "\n",
        "La interfaz para el usuario deberá crearse en otro archivo .py.\n",
        "\n",
        "El primer archivo lo llamaremos cuadernos.py y el archivo de la interfaz lo llamaremos menu.py."
      ]
    },
    {
      "cell_type": "code",
      "metadata": {
        "id": "BzHtxktS8_8I",
        "colab_type": "code",
        "colab": {}
      },
      "source": [
        "class Menu():\n",
        "  pass"
      ],
      "execution_count": 0,
      "outputs": []
    },
    {
      "cell_type": "markdown",
      "metadata": {
        "id": "W688wcQOAAJX",
        "colab_type": "text"
      },
      "source": [
        "El objeto `Menu()` deberá recibir todas las posibles elecciones del usuario. Recordemos que el menú interactivo deberá tener este aspecto:\n",
        "\n",
        "1. Mostrar todas las notas.\n",
        "2. Buscar notas. \n",
        "3. Agregar nota.    \n",
        "4. Modificar nota.\n",
        "5. Salir del programa.\n",
        "\n",
        "Adicionalmente, la clase `Menu()` deberá tener los siguientes métodos:\n",
        "\n",
        "* display_menu()\n",
        "* run()\n",
        "* Mostrar_notas()\n",
        "* Buscar_notas()\n",
        "* Agregar_nota()\n",
        "* Modificar_nota()\n",
        "* salir()"
      ]
    },
    {
      "cell_type": "markdown",
      "metadata": {
        "id": "6J2ZtGWSBL-X",
        "colab_type": "text"
      },
      "source": [
        "El método `run()` deberá desplegar el menú y responder a las elecciones del usuario"
      ]
    },
    {
      "cell_type": "code",
      "metadata": {
        "id": "XCw_5bw__-8C",
        "colab_type": "code",
        "colab": {}
      },
      "source": [
        ""
      ],
      "execution_count": 0,
      "outputs": []
    }
  ]
}